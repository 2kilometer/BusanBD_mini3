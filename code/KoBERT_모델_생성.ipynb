{
 "cells": [
  {
   "cell_type": "markdown",
   "metadata": {},
   "source": [
    "# 긍부정 판별을 위한 KoBERT 모델 생성"
   ]
  },
  {
   "cell_type": "code",
   "execution_count": null,
   "metadata": {
    "colab": {
     "base_uri": "https://localhost:8080/"
    },
    "executionInfo": {
     "elapsed": 17536,
     "status": "ok",
     "timestamp": 1692828663969,
     "user": {
      "displayName": "Simon Yun",
      "userId": "11811271085600274583"
     },
     "user_tz": -540
    },
    "id": "ty83NT9Srd3O",
    "outputId": "acb0a5c1-96ae-4010-cfc3-0920fdf5cff4"
   },
   "outputs": [
    {
     "name": "stdout",
     "output_type": "stream",
     "text": [
      "Collecting transformers\n",
      "  Downloading transformers-4.32.0-py3-none-any.whl (7.5 MB)\n",
      "\u001b[2K     \u001b[90m━━━━━━━━━━━━━━━━━━━━━━━━━━━━━━━━━━━━━━━━\u001b[0m \u001b[32m7.5/7.5 MB\u001b[0m \u001b[31m17.6 MB/s\u001b[0m eta \u001b[36m0:00:00\u001b[0m\n",
      "\u001b[?25hRequirement already satisfied: filelock in /usr/local/lib/python3.10/dist-packages (from transformers) (3.12.2)\n",
      "Collecting huggingface-hub<1.0,>=0.15.1 (from transformers)\n",
      "  Downloading huggingface_hub-0.16.4-py3-none-any.whl (268 kB)\n",
      "\u001b[2K     \u001b[90m━━━━━━━━━━━━━━━━━━━━━━━━━━━━━━━━━━━━━━\u001b[0m \u001b[32m268.8/268.8 kB\u001b[0m \u001b[31m27.1 MB/s\u001b[0m eta \u001b[36m0:00:00\u001b[0m\n",
      "\u001b[?25hRequirement already satisfied: numpy>=1.17 in /usr/local/lib/python3.10/dist-packages (from transformers) (1.23.5)\n",
      "Requirement already satisfied: packaging>=20.0 in /usr/local/lib/python3.10/dist-packages (from transformers) (23.1)\n",
      "Requirement already satisfied: pyyaml>=5.1 in /usr/local/lib/python3.10/dist-packages (from transformers) (6.0.1)\n",
      "Requirement already satisfied: regex!=2019.12.17 in /usr/local/lib/python3.10/dist-packages (from transformers) (2023.6.3)\n",
      "Requirement already satisfied: requests in /usr/local/lib/python3.10/dist-packages (from transformers) (2.31.0)\n",
      "Collecting tokenizers!=0.11.3,<0.14,>=0.11.1 (from transformers)\n",
      "  Downloading tokenizers-0.13.3-cp310-cp310-manylinux_2_17_x86_64.manylinux2014_x86_64.whl (7.8 MB)\n",
      "\u001b[2K     \u001b[90m━━━━━━━━━━━━━━━━━━━━━━━━━━━━━━━━━━━━━━━━\u001b[0m \u001b[32m7.8/7.8 MB\u001b[0m \u001b[31m45.9 MB/s\u001b[0m eta \u001b[36m0:00:00\u001b[0m\n",
      "\u001b[?25hCollecting safetensors>=0.3.1 (from transformers)\n",
      "  Downloading safetensors-0.3.3-cp310-cp310-manylinux_2_17_x86_64.manylinux2014_x86_64.whl (1.3 MB)\n",
      "\u001b[2K     \u001b[90m━━━━━━━━━━━━━━━━━━━━━━━━━━━━━━━━━━━━━━━━\u001b[0m \u001b[32m1.3/1.3 MB\u001b[0m \u001b[31m44.5 MB/s\u001b[0m eta \u001b[36m0:00:00\u001b[0m\n",
      "\u001b[?25hRequirement already satisfied: tqdm>=4.27 in /usr/local/lib/python3.10/dist-packages (from transformers) (4.66.1)\n",
      "Requirement already satisfied: fsspec in /usr/local/lib/python3.10/dist-packages (from huggingface-hub<1.0,>=0.15.1->transformers) (2023.6.0)\n",
      "Requirement already satisfied: typing-extensions>=3.7.4.3 in /usr/local/lib/python3.10/dist-packages (from huggingface-hub<1.0,>=0.15.1->transformers) (4.7.1)\n",
      "Requirement already satisfied: charset-normalizer<4,>=2 in /usr/local/lib/python3.10/dist-packages (from requests->transformers) (3.2.0)\n",
      "Requirement already satisfied: idna<4,>=2.5 in /usr/local/lib/python3.10/dist-packages (from requests->transformers) (3.4)\n",
      "Requirement already satisfied: urllib3<3,>=1.21.1 in /usr/local/lib/python3.10/dist-packages (from requests->transformers) (2.0.4)\n",
      "Requirement already satisfied: certifi>=2017.4.17 in /usr/local/lib/python3.10/dist-packages (from requests->transformers) (2023.7.22)\n",
      "Installing collected packages: tokenizers, safetensors, huggingface-hub, transformers\n",
      "Successfully installed huggingface-hub-0.16.4 safetensors-0.3.3 tokenizers-0.13.3 transformers-4.32.0\n",
      "Collecting sentencepiece\n",
      "  Downloading sentencepiece-0.1.99-cp310-cp310-manylinux_2_17_x86_64.manylinux2014_x86_64.whl (1.3 MB)\n",
      "\u001b[2K     \u001b[90m━━━━━━━━━━━━━━━━━━━━━━━━━━━━━━━━━━━━━━━━\u001b[0m \u001b[32m1.3/1.3 MB\u001b[0m \u001b[31m9.1 MB/s\u001b[0m eta \u001b[36m0:00:00\u001b[0m\n",
      "\u001b[?25hInstalling collected packages: sentencepiece\n",
      "Successfully installed sentencepiece-0.1.99\n"
     ]
    }
   ],
   "source": [
    "# 필요 모듈 설치\n",
    "\n",
    "!pip install transformers\n",
    "!pip install sentencepiece\n",
    "!pip install tensorflow_addons"
   ]
  },
  {
   "cell_type": "code",
   "execution_count": null,
   "metadata": {
    "colab": {
     "base_uri": "https://localhost:8080/"
    },
    "executionInfo": {
     "elapsed": 18437,
     "status": "ok",
     "timestamp": 1692828682403,
     "user": {
      "displayName": "Simon Yun",
      "userId": "11811271085600274583"
     },
     "user_tz": -540
    },
    "id": "uSyZym1brOQj",
    "outputId": "5505b23b-5447-4c4d-a545-8dc9a9a28660"
   },
   "outputs": [
    {
     "name": "stderr",
     "output_type": "stream",
     "text": [
      "/usr/local/lib/python3.10/dist-packages/transformers/generation_utils.py:24: FutureWarning: Importing `GenerationMixin` from `src/transformers/generation_utils.py` is deprecated and will be removed in Transformers v5. Import as `from transformers import GenerationMixin` instead.\n",
      "  warnings.warn(\n",
      "/usr/local/lib/python3.10/dist-packages/transformers/generation_tf_utils.py:24: FutureWarning: Importing `TFGenerationMixin` from `src/transformers/generation_tf_utils.py` is deprecated and will be removed in Transformers v5. Import as `from transformers import TFGenerationMixin` instead.\n",
      "  warnings.warn(\n",
      "/usr/local/lib/python3.10/dist-packages/transformers/generation_flax_utils.py:24: FutureWarning: Importing `FlaxGenerationMixin` from `src/transformers/generation_flax_utils.py` is deprecated and will be removed in Transformers v5. Import as `from transformers import FlaxGenerationMixin` instead.\n",
      "  warnings.warn(\n",
      "Xformers is not installed correctly. If you want to use memory_efficient_attention to accelerate training use the following command to install Xformers\n",
      "pip install xformers.\n"
     ]
    }
   ],
   "source": [
    "## 필요 모듈 import \n",
    "\n",
    "import tensorflow as tf\n",
    "import numpy as np\n",
    "import pandas as pd\n",
    "from transformers import *\n",
    "import json\n",
    "import numpy as np\n",
    "import pandas as pd\n",
    "from tqdm import tqdm\n",
    "import os\n",
    "import sentencepiece as spm\n",
    "\n",
    "import tensorflow_addons as tfa\n",
    "from tensorflow.keras.callbacks import EarlyStopping, ModelCheckpoint"
   ]
  },
  {
   "cell_type": "code",
   "execution_count": null,
   "metadata": {
    "colab": {
     "base_uri": "https://localhost:8080/"
    },
    "executionInfo": {
     "elapsed": 21948,
     "status": "ok",
     "timestamp": 1692828704347,
     "user": {
      "displayName": "Simon Yun",
      "userId": "11811271085600274583"
     },
     "user_tz": -540
    },
    "id": "ougFOG8vrWFq",
    "outputId": "1c3d2740-1288-4d38-f61b-6e2f8bfadbc6"
   },
   "outputs": [
    {
     "name": "stdout",
     "output_type": "stream",
     "text": [
      "Mounted at /content/drive\n"
     ]
    }
   ],
   "source": [
    "# 구글드라이브 실행\n",
    "\n",
    "from google.colab import drive\n",
    "drive.mount('/content/drive')"
   ]
  },
  {
   "cell_type": "code",
   "execution_count": null,
   "metadata": {
    "id": "62f9CWP7rOQm"
   },
   "outputs": [],
   "source": [
    "# 데이터 불러들이기\n",
    "\n",
    "df_train = pd.read_csv('./data/df_train_eda_total_len_less_6_filtered.csv',encoding='utf-8-sig')\n",
    "df_test = pd.read_csv('./data/df_test_eda_total_len_less_6_filtered.csv',encoding='utf-8-sig')"
   ]
  },
  {
   "cell_type": "code",
   "execution_count": null,
   "metadata": {
    "id": "wAetjzkoMdfs"
   },
   "outputs": [],
   "source": [
    "## 중복 row 제거\n",
    "df_train = df_train.drop_duplicates()\n",
    "df_test = df_test.drop_duplicates()\n",
    "df_no_star = df_no_star.drop_duplicates()\n",
    "\n",
    "# review NaN인 row drop\n",
    "df_train = df_train.dropna(subset='review_content')\n",
    "df_test = df_test.dropna(subset='review_content')\n",
    "df_no_star = df_no_star[df_no_star['review_content'].notnull()]\n",
    "\n",
    "# reset index\n",
    "df_train.reset_index(drop=True, inplace=True)\n",
    "df_test.reset_index(drop=True, inplace=True)\n",
    "df_no_star.reset_index(drop=True, inplace=True)\n",
    "\n",
    "\n",
    "# 변수명 수정\n",
    "train, test = df_train, df_test"
   ]
  },
  {
   "cell_type": "code",
   "execution_count": null,
   "metadata": {
    "colab": {
     "base_uri": "https://localhost:8080/"
    },
    "executionInfo": {
     "elapsed": 6,
     "status": "ok",
     "timestamp": 1692830421769,
     "user": {
      "displayName": "Simon Yun",
      "userId": "11811271085600274583"
     },
     "user_tz": -540
    },
    "id": "RUCKlKzFrOQp",
    "outputId": "c319e193-9e79-4cc5-9cc2-2e3c6184cd3d"
   },
   "outputs": [
    {
     "data": {
      "text/plain": [
       "(1.0    38357\n",
       " 0.0     4100\n",
       " Name: rating, dtype: int64,\n",
       " 1.0    153426\n",
       " 0.0    147591\n",
       " Name: rating, dtype: int64)"
      ]
     },
     "execution_count": 39,
     "metadata": {},
     "output_type": "execute_result"
    }
   ],
   "source": [
    "# value count 확인\n",
    "\n",
    "test['rating'].value_counts(),train['rating'].value_counts()"
   ]
  },
  {
   "cell_type": "markdown",
   "metadata": {
    "id": "ncnGXYP5rOQr"
   },
   "source": [
    "## 버트 인풋 만들기\n",
    "\n",
    "한글 데이터를 분석하려면, 100개가 넘는 언어에 대해 훈련된 버트를 사용해야 합니다.\n",
    "이번에는 한국어 데이터로 훈련되었고, SKT에서 만든 KoBERT를 사용하도록 하겠습니다.\n",
    "모델을 로드하기에 앞서, 토크나이저를 불러오도록 하겠습니다.\n",
    "huggingface에서는 아주 쉽게 토크나이저를 불러올 수 있습니다.\n",
    "https://github.com/monologg/KoBERT-NER 에서 kobert를 tokenize 할 수 있는 코드를 가져왔습니다."
   ]
  },
  {
   "cell_type": "code",
   "execution_count": null,
   "metadata": {
    "id": "jVOcxoIfrOQs"
   },
   "outputs": [],
   "source": [
    "# KoBERT 토크나이저를 활용\n",
    "\n",
    "import logging\n",
    "import os\n",
    "import unicodedata\n",
    "from shutil import copyfile\n",
    "\n",
    "from transformers import PreTrainedTokenizer\n",
    "\n",
    "\n",
    "logger = logging.getLogger(__name__)\n",
    "\n",
    "VOCAB_FILES_NAMES = {\"vocab_file\": \"tokenizer_78b3253a26.model\",\n",
    "                     \"vocab_txt\": \"vocab.txt\"}\n",
    "\n",
    "PRETRAINED_VOCAB_FILES_MAP = {\n",
    "    \"vocab_file\": {\n",
    "        \"monologg/kobert\": \"https://s3.amazonaws.com/models.huggingface.co/bert/monologg/kobert/tokenizer_78b3253a26.model\",\n",
    "        \"monologg/kobert-lm\": \"https://s3.amazonaws.com/models.huggingface.co/bert/monologg/kobert-lm/tokenizer_78b3253a26.model\",\n",
    "        \"monologg/distilkobert\": \"https://s3.amazonaws.com/models.huggingface.co/bert/monologg/distilkobert/tokenizer_78b3253a26.model\"\n",
    "    },\n",
    "    \"vocab_txt\": {\n",
    "        \"monologg/kobert\": \"https://s3.amazonaws.com/models.huggingface.co/bert/monologg/kobert/vocab.txt\",\n",
    "        \"monologg/kobert-lm\": \"https://s3.amazonaws.com/models.huggingface.co/bert/monologg/kobert-lm/vocab.txt\",\n",
    "        \"monologg/distilkobert\": \"https://s3.amazonaws.com/models.huggingface.co/bert/monologg/distilkobert/vocab.txt\"\n",
    "    }\n",
    "}\n",
    "\n",
    "PRETRAINED_POSITIONAL_EMBEDDINGS_SIZES = {\n",
    "    \"monologg/kobert\": 512,\n",
    "    \"monologg/kobert-lm\": 512,\n",
    "    \"monologg/distilkobert\": 512\n",
    "}\n",
    "\n",
    "PRETRAINED_INIT_CONFIGURATION = {\n",
    "    \"monologg/kobert\": {\"do_lower_case\": False},\n",
    "    \"monologg/kobert-lm\": {\"do_lower_case\": False},\n",
    "    \"monologg/distilkobert\": {\"do_lower_case\": False}\n",
    "}\n",
    "\n",
    "SPIECE_UNDERLINE = u'▁'\n",
    "\n",
    "\n",
    "class KoBertTokenizer(PreTrainedTokenizer):\n",
    "    \"\"\"\n",
    "        SentencePiece based tokenizer. Peculiarities:\n",
    "            - requires `SentencePiece `_\n",
    "    \"\"\"\n",
    "    vocab_files_names = VOCAB_FILES_NAMES\n",
    "    pretrained_vocab_files_map = PRETRAINED_VOCAB_FILES_MAP\n",
    "    pretrained_init_configuration = PRETRAINED_INIT_CONFIGURATION\n",
    "    max_model_input_sizes = PRETRAINED_POSITIONAL_EMBEDDINGS_SIZES\n",
    "\n",
    "    def __init__(\n",
    "            self,\n",
    "            vocab_file,\n",
    "            vocab_txt,\n",
    "            do_lower_case=False,\n",
    "            remove_space=True,\n",
    "            keep_accents=False,\n",
    "            unk_token=\"[UNK]\",\n",
    "            sep_token=\"[SEP]\",\n",
    "            pad_token=\"[PAD]\",\n",
    "            cls_token=\"[CLS]\",\n",
    "            mask_token=\"[MASK]\",\n",
    "            **kwargs):\n",
    "        super().__init__(\n",
    "            unk_token=unk_token,\n",
    "            sep_token=sep_token,\n",
    "            pad_token=pad_token,\n",
    "            cls_token=cls_token,\n",
    "            mask_token=mask_token,\n",
    "            **kwargs\n",
    "        )\n",
    "\n",
    "        # Build vocab\n",
    "        self.token2idx = dict()\n",
    "        self.idx2token = []\n",
    "        with open(vocab_txt, 'r', encoding='utf-8') as f:\n",
    "            for idx, token in enumerate(f):\n",
    "                token = token.strip()\n",
    "                self.token2idx[token] = idx\n",
    "                self.idx2token.append(token)\n",
    "\n",
    "        try:\n",
    "            import sentencepiece as spm\n",
    "        except ImportError:\n",
    "            logger.warning(\"You need to install SentencePiece to use KoBertTokenizer: https://github.com/google/sentencepiece\"\n",
    "                           \"pip install sentencepiece\")\n",
    "\n",
    "        self.do_lower_case = do_lower_case\n",
    "        self.remove_space = remove_space\n",
    "        self.keep_accents = keep_accents\n",
    "        self.vocab_file = vocab_file\n",
    "        self.vocab_txt = vocab_txt\n",
    "\n",
    "        self.sp_model = spm.SentencePieceProcessor()\n",
    "        self.sp_model.Load(vocab_file)\n",
    "\n",
    "    @property\n",
    "    def vocab_size(self):\n",
    "        return len(self.idx2token)\n",
    "\n",
    "    def get_vocab(self):\n",
    "        return dict(self.token2idx, **self.added_tokens_encoder)\n",
    "\n",
    "    def __getstate__(self):\n",
    "        state = self.__dict__.copy()\n",
    "        state[\"sp_model\"] = None\n",
    "        return state\n",
    "\n",
    "    def __setstate__(self, d):\n",
    "        self.__dict__ = d\n",
    "        try:\n",
    "            import sentencepiece as spm\n",
    "        except ImportError:\n",
    "            logger.warning(\"You need to install SentencePiece to use KoBertTokenizer: https://github.com/google/sentencepiece\"\n",
    "                           \"pip install sentencepiece\")\n",
    "        self.sp_model = spm.SentencePieceProcessor()\n",
    "        self.sp_model.Load(self.vocab_file)\n",
    "\n",
    "    def preprocess_text(self, inputs):\n",
    "        if self.remove_space:\n",
    "            outputs = \" \".join(inputs.strip().split())\n",
    "        else:\n",
    "            outputs = inputs\n",
    "        outputs = outputs.replace(\"``\", '\"').replace(\"''\", '\"')\n",
    "\n",
    "        if not self.keep_accents:\n",
    "            outputs = unicodedata.normalize('NFKD', outputs)\n",
    "            outputs = \"\".join([c for c in outputs if not unicodedata.combining(c)])\n",
    "        if self.do_lower_case:\n",
    "            outputs = outputs.lower()\n",
    "\n",
    "        return outputs\n",
    "\n",
    "    def _tokenize(self, text, return_unicode=True, sample=False):\n",
    "        \"\"\" Tokenize a string. \"\"\"\n",
    "        text = self.preprocess_text(text)\n",
    "\n",
    "        if not sample:\n",
    "            pieces = self.sp_model.EncodeAsPieces(text)\n",
    "        else:\n",
    "            pieces = self.sp_model.SampleEncodeAsPieces(text, 64, 0.1)\n",
    "        new_pieces = []\n",
    "        for piece in pieces:\n",
    "            if len(piece) > 1 and piece[-1] == str(\",\") and piece[-2].isdigit():\n",
    "                cur_pieces = self.sp_model.EncodeAsPieces(piece[:-1].replace(SPIECE_UNDERLINE, \"\"))\n",
    "                if piece[0] != SPIECE_UNDERLINE and cur_pieces[0][0] == SPIECE_UNDERLINE:\n",
    "                    if len(cur_pieces[0]) == 1:\n",
    "                        cur_pieces = cur_pieces[1:]\n",
    "                    else:\n",
    "                        cur_pieces[0] = cur_pieces[0][1:]\n",
    "                cur_pieces.append(piece[-1])\n",
    "                new_pieces.extend(cur_pieces)\n",
    "            else:\n",
    "                new_pieces.append(piece)\n",
    "\n",
    "        return new_pieces\n",
    "\n",
    "    def _convert_token_to_id(self, token):\n",
    "        \"\"\" Converts a token (str/unicode) in an id using the vocab. \"\"\"\n",
    "        return self.token2idx.get(token, self.token2idx[self.unk_token])\n",
    "\n",
    "    def _convert_id_to_token(self, index, return_unicode=True):\n",
    "        \"\"\"Converts an index (integer) in a token (string/unicode) using the vocab.\"\"\"\n",
    "        return self.idx2token[index]\n",
    "\n",
    "    def convert_tokens_to_string(self, tokens):\n",
    "        \"\"\"Converts a sequence of tokens (strings for sub-words) in a single string.\"\"\"\n",
    "        out_string = \"\".join(tokens).replace(SPIECE_UNDERLINE, \" \").strip()\n",
    "        return out_string\n",
    "\n",
    "    def build_inputs_with_special_tokens(self, token_ids_0, token_ids_1=None):\n",
    "        \"\"\"\n",
    "        Build model inputs from a sequence or a pair of sequence for sequence classification tasks\n",
    "        by concatenating and adding special tokens.\n",
    "        A KoBERT sequence has the following format:\n",
    "            single sequence: [CLS] X [SEP]\n",
    "            pair of sequences: [CLS] A [SEP] B [SEP]\n",
    "        \"\"\"\n",
    "        if token_ids_1 is None:\n",
    "            return [self.cls_token_id] + token_ids_0 + [self.sep_token_id]\n",
    "        cls = [self.cls_token_id]\n",
    "        sep = [self.sep_token_id]\n",
    "        return cls + token_ids_0 + sep + token_ids_1 + sep\n",
    "\n",
    "    def get_special_tokens_mask(self, token_ids_0, token_ids_1=None, already_has_special_tokens=False):\n",
    "        \"\"\"\n",
    "        Retrieves sequence ids from a token list that has no special tokens added. This method is called when adding\n",
    "        special tokens using the tokenizer ``prepare_for_model`` or ``encode_plus`` methods.\n",
    "        Args:\n",
    "            token_ids_0: list of ids (must not contain special tokens)\n",
    "            token_ids_1: Optional list of ids (must not contain special tokens), necessary when fetching sequence ids\n",
    "                for sequence pairs\n",
    "            already_has_special_tokens: (default False) Set to True if the token list is already formated with\n",
    "                special tokens for the model\n",
    "        Returns:\n",
    "            A list of integers in the range [0, 1]: 0 for a special token, 1 for a sequence token.\n",
    "        \"\"\"\n",
    "\n",
    "        if already_has_special_tokens:\n",
    "            if token_ids_1 is not None:\n",
    "                raise ValueError(\n",
    "                    \"You should not supply a second sequence if the provided sequence of \"\n",
    "                    \"ids is already formated with special tokens for the model.\"\n",
    "                )\n",
    "            return list(map(lambda x: 1 if x in [self.sep_token_id, self.cls_token_id] else 0, token_ids_0))\n",
    "\n",
    "        if token_ids_1 is not None:\n",
    "            return [1] + ([0] * len(token_ids_0)) + [1] + ([0] * len(token_ids_1)) + [1]\n",
    "        return [1] + ([0] * len(token_ids_0)) + [1]\n",
    "\n",
    "    def create_token_type_ids_from_sequences(self, token_ids_0, token_ids_1=None):\n",
    "        \"\"\"\n",
    "        Creates a mask from the two sequences passed to be used in a sequence-pair classification task.\n",
    "        A KoBERT sequence pair mask has the following format:\n",
    "        0 0 0 0 0 0 0 0 0 0 1 1 1 1 1 1 1 1 1 1 1\n",
    "        | first sequence    | second sequence\n",
    "        if token_ids_1 is None, only returns the first portion of the mask (0's).\n",
    "        \"\"\"\n",
    "        sep = [self.sep_token_id]\n",
    "        cls = [self.cls_token_id]\n",
    "        if token_ids_1 is None:\n",
    "            return len(cls + token_ids_0 + sep) * [0]\n",
    "        return len(cls + token_ids_0 + sep) * [0] + len(token_ids_1 + sep) * [1]\n",
    "\n",
    "    def save_vocabulary(self, save_directory):\n",
    "        \"\"\" Save the sentencepiece vocabulary (copy original file) and special tokens file\n",
    "            to a directory.\n",
    "        \"\"\"\n",
    "        if not os.path.isdir(save_directory):\n",
    "            logger.error(\"Vocabulary path ({}) should be a directory\".format(save_directory))\n",
    "            return\n",
    "\n",
    "        # 1. Save sentencepiece model\n",
    "        out_vocab_model = os.path.join(save_directory, VOCAB_FILES_NAMES[\"vocab_file\"])\n",
    "\n",
    "        if os.path.abspath(self.vocab_file) != os.path.abspath(out_vocab_model):\n",
    "            copyfile(self.vocab_file, out_vocab_model)\n",
    "\n",
    "        # 2. Save vocab.txt\n",
    "        index = 0\n",
    "        out_vocab_txt = os.path.join(save_directory, VOCAB_FILES_NAMES[\"vocab_txt\"])\n",
    "        with open(out_vocab_txt, \"w\", encoding=\"utf-8\") as writer:\n",
    "            for token, token_index in sorted(self.token2idx.items(), key=lambda kv: kv[1]):\n",
    "                if index != token_index:\n",
    "                    logger.warning(\n",
    "                        \"Saving vocabulary to {}: vocabulary indices are not consecutive.\"\n",
    "                        \" Please check that the vocabulary is not corrupted!\".format(out_vocab_txt)\n",
    "                    )\n",
    "                    index = token_index\n",
    "                writer.write(token + \"\\n\")\n",
    "                index += 1\n",
    "\n",
    "        return out_vocab_model, out_vocab_txt"
   ]
  },
  {
   "cell_type": "code",
   "execution_count": null,
   "metadata": {
    "colab": {
     "base_uri": "https://localhost:8080/"
    },
    "executionInfo": {
     "elapsed": 489,
     "status": "ok",
     "timestamp": 1692830423029,
     "user": {
      "displayName": "Simon Yun",
      "userId": "11811271085600274583"
     },
     "user_tz": -540
    },
    "id": "v2QwDpGHrOQt",
    "outputId": "23bf6c3f-23af-4832-9e6c-284af5946fb0"
   },
   "outputs": [
    {
     "name": "stderr",
     "output_type": "stream",
     "text": [
      "loading file tokenizer_78b3253a26.model from cache at /root/.cache/huggingface/hub/models--monologg--kobert/snapshots/30941062c0f3dde73b246468f449f2448c7694bc/tokenizer_78b3253a26.model\n",
      "loading file vocab.txt from cache at /root/.cache/huggingface/hub/models--monologg--kobert/snapshots/30941062c0f3dde73b246468f449f2448c7694bc/vocab.txt\n",
      "loading file added_tokens.json from cache at None\n",
      "loading file special_tokens_map.json from cache at None\n",
      "loading file tokenizer_config.json from cache at /root/.cache/huggingface/hub/models--monologg--kobert/snapshots/30941062c0f3dde73b246468f449f2448c7694bc/tokenizer_config.json\n",
      "loading configuration file config.json from cache at /root/.cache/huggingface/hub/models--monologg--kobert/snapshots/30941062c0f3dde73b246468f449f2448c7694bc/config.json\n",
      "Model config BertConfig {\n",
      "  \"_name_or_path\": \"monologg/kobert\",\n",
      "  \"architectures\": [\n",
      "    \"BertModel\"\n",
      "  ],\n",
      "  \"attention_probs_dropout_prob\": 0.1,\n",
      "  \"classifier_dropout\": null,\n",
      "  \"hidden_act\": \"gelu\",\n",
      "  \"hidden_dropout_prob\": 0.1,\n",
      "  \"hidden_size\": 768,\n",
      "  \"initializer_range\": 0.02,\n",
      "  \"intermediate_size\": 3072,\n",
      "  \"layer_norm_eps\": 1e-12,\n",
      "  \"max_position_embeddings\": 512,\n",
      "  \"model_type\": \"bert\",\n",
      "  \"num_attention_heads\": 12,\n",
      "  \"num_hidden_layers\": 12,\n",
      "  \"pad_token_id\": 1,\n",
      "  \"position_embedding_type\": \"absolute\",\n",
      "  \"transformers_version\": \"4.32.0\",\n",
      "  \"type_vocab_size\": 2,\n",
      "  \"use_cache\": true,\n",
      "  \"vocab_size\": 8002\n",
      "}\n",
      "\n",
      "The tokenizer class you load from this checkpoint is not the same type as the class this function is called from. It may result in unexpected tokenization. \n",
      "The tokenizer class you load from this checkpoint is 'BertTokenizer'. \n",
      "The class this function is called from is 'KoBertTokenizer'.\n"
     ]
    }
   ],
   "source": [
    "# monologg/kobert 모델을 사용하여 KoBertTokenizer 객체를 생성한다.\n",
    "\n",
    "tokenizer = KoBertTokenizer.from_pretrained('monologg/kobert')  "
   ]
  },
  {
   "cell_type": "code",
   "execution_count": null,
   "metadata": {
    "colab": {
     "base_uri": "https://localhost:8080/"
    },
    "executionInfo": {
     "elapsed": 75980,
     "status": "ok",
     "timestamp": 1692830499002,
     "user": {
      "displayName": "Simon Yun",
      "userId": "11811271085600274583"
     },
     "user_tz": -540
    },
    "id": "9ewi3TYprOQt",
    "outputId": "871d88f5-1dcf-4947-86ac-180eef6b03e5"
   },
   "outputs": [
    {
     "name": "stderr",
     "output_type": "stream",
     "text": [
      "100%|██████████| 301017/301017 [01:11<00:00, 4195.47it/s]\n"
     ]
    }
   ],
   "source": [
    "# 데이터 변환을 위한 함수\n",
    "\n",
    "def convert_data(data_df):\n",
    "    global tokenizer\n",
    "\n",
    "    SEQ_LEN = 64  # SEQ_LEN : 버트에 들어갈 인풋의 길이\n",
    "\n",
    "    tokens, masks, segments, targets = [], [], [], []\n",
    "\n",
    "    for i in tqdm(range(len(data_df))):\n",
    "        # token : 문장을 토큰화함\n",
    "        token = tokenizer.encode(\n",
    "            data_df[DATA_COLUMN][i], truncation=True, padding='max_length', max_length=SEQ_LEN)\n",
    "\n",
    "        # 마스크는 토큰화한 문장에서 패딩이 아닌 부분은 1, 패딩인 부분은 0으로 통일\n",
    "        num_zeros = token.count(0)\n",
    "        mask = [1]*(SEQ_LEN-num_zeros) + [0]*num_zeros\n",
    "\n",
    "        # 문장의 전후관계를 구분해주는 세그먼트는 문장이 1개밖에 없으므로 모두 0\n",
    "        segment = [0]*SEQ_LEN\n",
    "\n",
    "        # 버트 인풋으로 들어가는 token, mask, segment를 tokens, segments에 각각 저장\n",
    "        tokens.append(token)\n",
    "        masks.append(mask)\n",
    "        segments.append(segment)\n",
    "\n",
    "        # 정답(긍정 : 1 부정 0)을 targets 변수에 저장해 줌\n",
    "        targets.append(data_df[LABEL_COLUMN][i])\n",
    "\n",
    "    # tokens, masks, segments, 정답 변수 targets를 numpy array로 지정\n",
    "    tokens = np.array(tokens)\n",
    "    masks = np.array(masks)\n",
    "    segments = np.array(segments)\n",
    "    targets = np.array(targets)\n",
    "\n",
    "    return [tokens, masks, segments], targets\n",
    "\n",
    "# 위에 정의한 convert_data 함수를 불러오는 함수를 정의\n",
    "\n",
    "\n",
    "def load_data(pandas_dataframe):\n",
    "    data_df = pandas_dataframe\n",
    "    data_df[DATA_COLUMN] = data_df[DATA_COLUMN].astype(str)\n",
    "    data_df[LABEL_COLUMN] = data_df[LABEL_COLUMN].astype(int)\n",
    "    data_x, data_y = convert_data(data_df)\n",
    "    return data_x, data_y\n",
    "\n",
    "\n",
    "SEQ_LEN = 64\n",
    "BATCH_SIZE = 32\n",
    "# 긍부정 문장을 포함하고 있는 칼럼\n",
    "DATA_COLUMN = \"review_content\"\n",
    "# 긍정인지 부정인지를 (1=긍정,0=부정) 포함하고 있는 칼럼\n",
    "LABEL_COLUMN = \"rating\"\n",
    "\n",
    "# train 데이터를 버트 인풋에 맞게 변환\n",
    "train_x, train_y = load_data(train)\n"
   ]
  },
  {
   "cell_type": "code",
   "execution_count": null,
   "metadata": {
    "colab": {
     "base_uri": "https://localhost:8080/"
    },
    "executionInfo": {
     "elapsed": 10007,
     "status": "ok",
     "timestamp": 1692830509004,
     "user": {
      "displayName": "Simon Yun",
      "userId": "11811271085600274583"
     },
     "user_tz": -540
    },
    "id": "XM-SwFNfrOQt",
    "outputId": "6445a29e-5c4c-4d8d-a569-6c5649dc3d3c"
   },
   "outputs": [
    {
     "name": "stderr",
     "output_type": "stream",
     "text": [
      "100%|██████████| 42457/42457 [00:09<00:00, 4466.89it/s]\n"
     ]
    }
   ],
   "source": [
    "# 훈련 성능을 검증한 test 데이터를 버트 인풋에 맞게 변환\n",
    "test_x, test_y = load_data(test)"
   ]
  },
  {
   "cell_type": "markdown",
   "metadata": {
    "id": "4NN3xsTcrOQu"
   },
   "source": [
    "## 버트를 활용한 감성분석 모델 만들기"
   ]
  },
  {
   "cell_type": "code",
   "execution_count": null,
   "metadata": {
    "colab": {
     "base_uri": "https://localhost:8080/"
    },
    "executionInfo": {
     "elapsed": 3355,
     "status": "ok",
     "timestamp": 1692830512344,
     "user": {
      "displayName": "Simon Yun",
      "userId": "11811271085600274583"
     },
     "user_tz": -540
    },
    "id": "5JYPjw05rOQu",
    "outputId": "076a364b-83bf-47b4-ea16-a39f95647e2c"
   },
   "outputs": [
    {
     "name": "stderr",
     "output_type": "stream",
     "text": [
      "loading configuration file config.json from cache at /root/.cache/huggingface/hub/models--monologg--kobert/snapshots/30941062c0f3dde73b246468f449f2448c7694bc/config.json\n",
      "Model config BertConfig {\n",
      "  \"architectures\": [\n",
      "    \"BertModel\"\n",
      "  ],\n",
      "  \"attention_probs_dropout_prob\": 0.1,\n",
      "  \"classifier_dropout\": null,\n",
      "  \"hidden_act\": \"gelu\",\n",
      "  \"hidden_dropout_prob\": 0.1,\n",
      "  \"hidden_size\": 768,\n",
      "  \"initializer_range\": 0.02,\n",
      "  \"intermediate_size\": 3072,\n",
      "  \"layer_norm_eps\": 1e-12,\n",
      "  \"max_position_embeddings\": 512,\n",
      "  \"model_type\": \"bert\",\n",
      "  \"num_attention_heads\": 12,\n",
      "  \"num_hidden_layers\": 12,\n",
      "  \"pad_token_id\": 1,\n",
      "  \"position_embedding_type\": \"absolute\",\n",
      "  \"transformers_version\": \"4.32.0\",\n",
      "  \"type_vocab_size\": 2,\n",
      "  \"use_cache\": true,\n",
      "  \"vocab_size\": 8002\n",
      "}\n",
      "\n",
      "loading weights file pytorch_model.bin from cache at /root/.cache/huggingface/hub/models--monologg--kobert/snapshots/30941062c0f3dde73b246468f449f2448c7694bc/pytorch_model.bin\n",
      "Loading PyTorch weights from /root/.cache/huggingface/hub/models--monologg--kobert/snapshots/30941062c0f3dde73b246468f449f2448c7694bc/pytorch_model.bin\n",
      "PyTorch checkpoint contains 92,186,880 parameters\n",
      "Loaded 92,186,880 parameters in the TF 2.0 model.\n",
      "All PyTorch model weights were used when initializing TFBertModel.\n",
      "\n",
      "All the weights of TFBertModel were initialized from the PyTorch model.\n",
      "If your task is similar to the task the model of the checkpoint was trained on, you can already use TFBertModel for predictions without further training.\n"
     ]
    }
   ],
   "source": [
    "model = TFBertModel.from_pretrained(\n",
    "    \"monologg/kobert\", from_pt=True)  # monologg/kobert 모델 불러오기\n",
    "\n",
    "\n",
    "# 토큰 인풋, 마스크 인풋, 세그먼트 인풋 정의\n",
    "token_inputs = tf.keras.layers.Input(\n",
    "    (SEQ_LEN,), dtype=tf.int32, name='input_word_ids')  # 입력 토큰 정의\n",
    "mask_inputs = tf.keras.layers.Input(\n",
    "    (SEQ_LEN,), dtype=tf.int32, name='input_masks')  # 입력 마스크 정의\n",
    "segment_inputs = tf.keras.layers.Input(\n",
    "    (SEQ_LEN,), dtype=tf.int32, name='input_segment')  # 입력 세그먼트 정의\n",
    "\n",
    "\n",
    "# 인풋이 [토큰, 마스크, 세그먼트]인 모델 정의\n",
    "bert_outputs = model(\n",
    "    [token_inputs, mask_inputs, segment_inputs])  # bert 모델의 출력 정의\n"
   ]
  },
  {
   "cell_type": "code",
   "execution_count": null,
   "metadata": {
    "id": "kFNpVqobrOQu"
   },
   "outputs": [],
   "source": [
    "# fine-tuning을 적용을 위해 index 1로 적용\n",
    "\n",
    "bert_outputs = bert_outputs[1]"
   ]
  },
  {
   "cell_type": "code",
   "execution_count": null,
   "metadata": {
    "colab": {
     "base_uri": "https://localhost:8080/"
    },
    "executionInfo": {
     "elapsed": 8,
     "status": "ok",
     "timestamp": 1692830512345,
     "user": {
      "displayName": "Simon Yun",
      "userId": "11811271085600274583"
     },
     "user_tz": -540
    },
    "id": "_K5Nl-RcCBO8",
    "outputId": "5c304f7e-9249-4a1c-e186-3b7e9f9363a3"
   },
   "outputs": [
    {
     "data": {
      "text/plain": [
       "<KerasTensor: shape=(768,) dtype=float32 (created by layer 'tf.__operators__.getitem_1')>"
      ]
     },
     "execution_count": 48,
     "metadata": {},
     "output_type": "execute_result"
    }
   ],
   "source": [
    "bert_outputs[1]"
   ]
  },
  {
   "cell_type": "code",
   "execution_count": null,
   "metadata": {
    "colab": {
     "base_uri": "https://localhost:8080/"
    },
    "executionInfo": {
     "elapsed": 11,
     "status": "ok",
     "timestamp": 1692830516393,
     "user": {
      "displayName": "Simon Yun",
      "userId": "11811271085600274583"
     },
     "user_tz": -540
    },
    "id": "naE-8a7LrOQu",
    "outputId": "ef112748-b1e3-4168-98b5-dc7db4cb4a21"
   },
   "outputs": [
    {
     "name": "stderr",
     "output_type": "stream",
     "text": [
      "/usr/local/lib/python3.10/dist-packages/tensorflow_addons/optimizers/rectified_adam.py:121: UserWarning: The `lr` argument is deprecated, use `learning_rate` instead.\n",
      "  super().__init__(name, **kwargs)\n"
     ]
    }
   ],
   "source": [
    "# Rectified Adam 옵티마이저 생성\n",
    "# Adam보다 초기 학습에서의 강점\n",
    "\n",
    "opt = tfa.optimizers.RectifiedAdam(\n",
    "    lr=5.0e-5,  # learning rate 설정\n",
    "    total_steps=2344*2,  # 총 스텝 수 설정\n",
    "    warmup_proportion=0.1,  # warmup 비율 설정\n",
    "\n",
    ")\n"
   ]
  },
  {
   "cell_type": "code",
   "execution_count": null,
   "metadata": {
    "id": "3Kr3pl8ErOQu"
   },
   "outputs": [],
   "source": [
    "# fine-tuning을 위한 모델링 설정\n",
    "\n",
    "sentiment_drop = tf.keras.layers.Dropout(\n",
    "    0.5)(bert_outputs)  # BERT 출력값에 드롭아웃 적용\n",
    "\n",
    "sentiment_first = tf.keras.layers.Dense(1, activation='sigmoid', kernel_initializer=tf.keras.initializers.TruncatedNormal(\n",
    "    stddev=0.02))(sentiment_drop)  # 드롭아웃 적용된 BERT 출력값에 fully connected layer 적용\n",
    "\n",
    "sentiment_model = tf.keras.Model(\n",
    "    [token_inputs, mask_inputs, segment_inputs], sentiment_first)  # 입력값과 출력값을 지정하여 모델 생성\n",
    "    \n",
    "sentiment_model.compile(optimizer=opt, loss=tf.keras.losses.BinaryCrossentropy(), metrics=[\n",
    "                        'acc'])  # 모델 컴파일, optimizer는 Adam, loss는 binary crossentropy, 평가 지표는 accuracy\n"
   ]
  },
  {
   "cell_type": "code",
   "execution_count": null,
   "metadata": {
    "colab": {
     "base_uri": "https://localhost:8080/"
    },
    "executionInfo": {
     "elapsed": 652,
     "status": "ok",
     "timestamp": 1692830517038,
     "user": {
      "displayName": "Simon Yun",
      "userId": "11811271085600274583"
     },
     "user_tz": -540
    },
    "id": "d3tsfXIOjB4w",
    "outputId": "d42cfb33-0e84-4c22-c49e-5382a332740e"
   },
   "outputs": [
    {
     "name": "stdout",
     "output_type": "stream",
     "text": [
      "Model: \"model_1\"\n",
      "__________________________________________________________________________________________________\n",
      " Layer (type)                   Output Shape         Param #     Connected to                     \n",
      "==================================================================================================\n",
      " input_word_ids (InputLayer)    [(None, 64)]         0           []                               \n",
      "                                                                                                  \n",
      " input_masks (InputLayer)       [(None, 64)]         0           []                               \n",
      "                                                                                                  \n",
      " input_segment (InputLayer)     [(None, 64)]         0           []                               \n",
      "                                                                                                  \n",
      " tf_bert_model_1 (TFBertModel)  TFBaseModelOutputWi  92186880    ['input_word_ids[0][0]',         \n",
      "                                thPoolingAndCrossAt               'input_masks[0][0]',            \n",
      "                                tentions(last_hidde               'input_segment[0][0]']          \n",
      "                                n_state=(None, 64,                                                \n",
      "                                768),                                                             \n",
      "                                 pooler_output=(Non                                               \n",
      "                                e, 768),                                                          \n",
      "                                 past_key_values=No                                               \n",
      "                                ne, hidden_states=N                                               \n",
      "                                one, attentions=Non                                               \n",
      "                                e, cross_attentions                                               \n",
      "                                =None)                                                            \n",
      "                                                                                                  \n",
      " dropout_75 (Dropout)           (None, 768)          0           ['tf_bert_model_1[0][1]']        \n",
      "                                                                                                  \n",
      " dense_1 (Dense)                (None, 1)            769         ['dropout_75[0][0]']             \n",
      "                                                                                                  \n",
      "==================================================================================================\n",
      "Total params: 92,187,649\n",
      "Trainable params: 92,187,649\n",
      "Non-trainable params: 0\n",
      "__________________________________________________________________________________________________\n"
     ]
    }
   ],
   "source": [
    "# model summary 확인\n",
    "\n",
    "sentiment_model.summary()"
   ]
  },
  {
   "cell_type": "code",
   "execution_count": null,
   "metadata": {
    "colab": {
     "base_uri": "https://localhost:8080/"
    },
    "executionInfo": {
     "elapsed": 5490392,
     "status": "ok",
     "timestamp": 1692836007425,
     "user": {
      "displayName": "Simon Yun",
      "userId": "11811271085600274583"
     },
     "user_tz": -540
    },
    "id": "TU_l-ySCrOQv",
    "outputId": "a8a48346-a24f-4cfa-93a4-e79cae283a25"
   },
   "outputs": [
    {
     "name": "stdout",
     "output_type": "stream",
     "text": [
      "Found GPU at: /device:GPU:0\n",
      "Epoch 1/10\n",
      "4704/4704 [==============================] - 1397s 292ms/step - loss: 0.2696 - acc: 0.8829 - val_loss: 0.1865 - val_acc: 0.9288\n",
      "Epoch 2/10\n",
      "4704/4704 [==============================] - 1367s 291ms/step - loss: 0.1537 - acc: 0.9423 - val_loss: 0.1865 - val_acc: 0.9288\n",
      "Epoch 3/10\n",
      "4704/4704 [==============================] - 1364s 290ms/step - loss: 0.1533 - acc: 0.9423 - val_loss: 0.1865 - val_acc: 0.9288\n",
      "Epoch 4/10\n",
      "4704/4704 [==============================] - 1361s 289ms/step - loss: 0.1533 - acc: 0.9422 - val_loss: 0.1865 - val_acc: 0.9288\n",
      "Epoch 4: early stopping\n"
     ]
    }
   ],
   "source": [
    "# GPU를 사용하기 위해 런타임 유형을 GPU로 변경\n",
    "\n",
    "es=EarlyStopping(monitor='val_loss',mode='min',verbose=1,patience=3)\n",
    "\n",
    "\n",
    "# GPU를 사용하기 위한 설정\n",
    "device_name = tf.test.gpu_device_name()\n",
    "if device_name != '/device:GPU:0':\n",
    "  raise SystemError('GPU device not found')\n",
    "print('Found GPU at: {}'.format(device_name))\n",
    "\n",
    "# 모델 학습\n",
    "with tf.device('/device:GPU:0'):\n",
    "  history = sentiment_model.fit(train_x, train_y, epochs=10, shuffle=True,\n",
    "                      batch_size=64,callbacks=es, validation_data=(test_x, test_y))\n"
   ]
  },
  {
   "cell_type": "markdown",
   "metadata": {
    "id": "HsV2YmgwyBmd"
   },
   "source": [
    "## predict"
   ]
  },
  {
   "cell_type": "code",
   "execution_count": null,
   "metadata": {
    "id": "rxZPpbKFrOQv"
   },
   "outputs": [],
   "source": [
    "# 예측에 필요한 함수 적용\n",
    "\n",
    "def predict_convert_data(data_df):\n",
    "    global tokenizer\n",
    "    tokens, masks, segments = [], [], []\n",
    "\n",
    "    for i in tqdm(range(len(data_df))):  # 데이터프레임의 길이만큼 반복문 실행\n",
    "\n",
    "        token = tokenizer.encode(data_df[DATA_COLUMN][i], max_length=SEQ_LEN,\n",
    "                                 truncation=True, padding='max_length')  # 문장을 토큰화하여 인코딩\n",
    "        num_zeros = token.count(0)  # 0의 개수를 세어 num_zeros에 저장\n",
    "        mask = [1]*(SEQ_LEN-num_zeros) + [0]*num_zeros  # mask 생성\n",
    "        segment = [0]*SEQ_LEN  # segment 생성\n",
    "\n",
    "        tokens.append(token)  # tokens 리스트에 token 추가\n",
    "        segments.append(segment)  # segments 리스트에 segment 추가\n",
    "        masks.append(mask)  # masks 리스트에 mask 추가\n",
    "\n",
    "    tokens = np.array(tokens)  # tokens 리스트를 numpy 배열로 변환\n",
    "    masks = np.array(masks)  # masks 리스트를 numpy 배열로 변환\n",
    "    segments = np.array(segments)  # segments 리스트를 numpy 배열로 변환\n",
    "    return [tokens, masks, segments]\n",
    "\n",
    "# 위에 정의한 convert_data 함수를 불러오는 함수를 정의\n",
    "\n",
    "\n",
    "def predict_load_data(pandas_dataframe):\n",
    "    data_df = pandas_dataframe\n",
    "    data_df[DATA_COLUMN] = data_df[DATA_COLUMN].astype(\n",
    "        str)  # 데이터프레임의 DATA_COLUMN 열을 문자열로 변환\n",
    "    data_x = predict_convert_data(data_df)  # convert_data 함수를 이용하여 데이터 전처리\n",
    "    return data_x\n"
   ]
  },
  {
   "cell_type": "code",
   "execution_count": null,
   "metadata": {
    "colab": {
     "base_uri": "https://localhost:8080/"
    },
    "executionInfo": {
     "elapsed": 9805,
     "status": "ok",
     "timestamp": 1692836017221,
     "user": {
      "displayName": "Simon Yun",
      "userId": "11811271085600274583"
     },
     "user_tz": -540
    },
    "id": "v3fiVKFErOQv",
    "outputId": "b12f6d40-f41b-40d0-8eb4-70c1987e6c20"
   },
   "outputs": [
    {
     "name": "stderr",
     "output_type": "stream",
     "text": [
      "100%|██████████| 42457/42457 [00:09<00:00, 4652.32it/s]\n"
     ]
    }
   ],
   "source": [
    "# 데이터 변환\n",
    "\n",
    "test_set = predict_load_data(test)"
   ]
  },
  {
   "cell_type": "code",
   "execution_count": null,
   "metadata": {
    "colab": {
     "base_uri": "https://localhost:8080/"
    },
    "executionInfo": {
     "elapsed": 78503,
     "status": "ok",
     "timestamp": 1692836095721,
     "user": {
      "displayName": "Simon Yun",
      "userId": "11811271085600274583"
     },
     "user_tz": -540
    },
    "id": "I2LbBlhRrOQv",
    "outputId": "cd8f3f5c-1616-4cec-ef31-18f6973778fa"
   },
   "outputs": [
    {
     "name": "stdout",
     "output_type": "stream",
     "text": [
      "1327/1327 [==============================] - 78s 56ms/step\n"
     ]
    }
   ],
   "source": [
    "# predict\n",
    "\n",
    "preds = sentiment_model.predict(test_set)"
   ]
  },
  {
   "cell_type": "code",
   "execution_count": null,
   "metadata": {
    "colab": {
     "base_uri": "https://localhost:8080/"
    },
    "executionInfo": {
     "elapsed": 11,
     "status": "ok",
     "timestamp": 1692836095723,
     "user": {
      "displayName": "Simon Yun",
      "userId": "11811271085600274583"
     },
     "user_tz": -540
    },
    "id": "Ev7_H45RrOQw",
    "outputId": "3032ad39-27d7-43cb-8596-4dd8983c9588"
   },
   "outputs": [
    {
     "name": "stdout",
     "output_type": "stream",
     "text": [
      "              precision    recall  f1-score   support\n",
      "\n",
      "           0       0.60      0.80      0.68      4100\n",
      "           1       0.98      0.94      0.96     38357\n",
      "\n",
      "    accuracy                           0.93     42457\n",
      "   macro avg       0.79      0.87      0.82     42457\n",
      "weighted avg       0.94      0.93      0.93     42457\n",
      "\n"
     ]
    }
   ],
   "source": [
    "# classification_report 출력하여 확인\n",
    "\n",
    "from sklearn.metrics import classification_report\n",
    "y_true = test['rating']\n",
    "# F1 Score 확인\n",
    "print(classification_report(y_true, np.round(preds,0)))"
   ]
  },
  {
   "cell_type": "code",
   "execution_count": null,
   "metadata": {
    "colab": {
     "base_uri": "https://localhost:8080/",
     "height": 472
    },
    "executionInfo": {
     "elapsed": 486,
     "status": "ok",
     "timestamp": 1692836336656,
     "user": {
      "displayName": "Simon Yun",
      "userId": "11811271085600274583"
     },
     "user_tz": -540
    },
    "id": "MPLYXWX8bA1h",
    "outputId": "64167e4c-c5e0-42aa-8f3c-566c89e6b427"
   },
   "outputs": [
    {
     "data": {
      "image/png": "[encoded data removed]",
      "text/plain": [
       "<Figure size 640x480 with 1 Axes>"
      ]
     },
     "metadata": {},
     "output_type": "display_data"
    }
   ],
   "source": [
    "# loss와 accuracy를 시각화\n",
    "\n",
    "import matplotlib.pyplot as plt\n",
    "\n",
    "\n",
    "plt.plot(history.history['loss'], label='Train Loss')\n",
    "plt.plot(history.history['val_loss'], label='Validation Loss')\n",
    "plt.plot(history.history['acc'], label='Train Accuracy')\n",
    "plt.plot(history.history['val_acc'], label='Validation Accuracy')\n",
    "plt.title('Accuracy')\n",
    "plt.xlabel('Epochs')\n",
    "plt.ylabel('Accuracy/Loss')\n",
    "plt.legend()\n",
    "plt.show()\n"
   ]
  },
  {
   "cell_type": "code",
   "execution_count": null,
   "metadata": {
    "id": "nJIP3B8frOQx"
   },
   "outputs": [],
   "source": [
    "# 모델 저장\n",
    "\n",
    "sentiment_model.save_weights(\"./판별기/ckpt_eda_data\")"
   ]
  },
  {
   "cell_type": "markdown",
   "metadata": {
    "id": "Bu5nwrkNyBme"
   },
   "source": [
    "## 생성 모델로 예측"
   ]
  },
  {
   "cell_type": "code",
   "execution_count": null,
   "metadata": {
    "id": "EjfG7EpXrOQw"
   },
   "outputs": [],
   "source": [
    "import logging  # logging 모듈을 import 합니다.\n",
    "tf.get_logger().setLevel(logging.ERROR)  # tensorflow의 logger를 ERROR 레벨로 설정합니다.\n"
   ]
  },
  {
   "cell_type": "code",
   "execution_count": null,
   "metadata": {
    "id": "O7X5Vt66rOQx"
   },
   "outputs": [],
   "source": [
    "\n",
    "def sentence_convert_data(data):\n",
    "    global tokenizer\n",
    "    tokens, masks, segments = [], [], []\n",
    "    token = tokenizer.encode(data, max_length=SEQ_LEN,\n",
    "                             truncation=True, padding='max_length')\n",
    "\n",
    "    num_zeros = token.count(0)  # 패딩으로 추가된 0의 개수를 세어준다.\n",
    "    mask = [1]*(SEQ_LEN-num_zeros) + [0]*num_zeros  # 패딩 부분은 0으로 마스킹한다.\n",
    "    segment = [0]*SEQ_LEN  # 문장의 길이만큼 segment를 0으로 채운다.\n",
    "\n",
    "    tokens.append(token)\n",
    "    segments.append(segment)\n",
    "    masks.append(mask)\n",
    "\n",
    "    tokens = np.array(tokens)\n",
    "    masks = np.array(masks)\n",
    "    segments = np.array(segments)\n",
    "    return [tokens, masks, segments]\n",
    "\n",
    "\n",
    "def review_evaluation_predict(sentence):\n",
    "    data_x = sentence_convert_data(sentence)\n",
    "    predict = sentiment_model.predict(data_x)\n",
    "    predict_value = np.ravel(predict)\n",
    "    predict_answer = np.round(predict_value, 0).item()\n",
    "\n",
    "    if predict_answer == 0:\n",
    "      # 예측값이 0일 경우, 부정적인 평가로 판단한다.\n",
    "      print(sentence)\n",
    "      print(\"(부정 확률 : %.2f) 부정적인 평가입니다.\" % (1-predict_value))\n",
    "      print('='*60)\n",
    "    # elif predict_answer == 1:\n",
    "    #   # 예측값이 1일 경우, 긍정적인 평가로 판단한다.\n",
    "    #   print(sentence)\n",
    "    #   print(\"(긍정 확률 : %.2f) 긍정적인 평가입니다.\" % predict_value)\n",
    "    #   print('='*60)\n"
   ]
  },
  {
   "cell_type": "code",
   "execution_count": null,
   "metadata": {
    "id": "IMQ3iUNJmpRg"
   },
   "outputs": [],
   "source": [
    "# pred 할 파일 불러들이기\n",
    "\n",
    "df_input = pd.read_csv('./data/review_concat_rating_revised_prep.csv',encoding='utf-8-sig')"
   ]
  },
  {
   "cell_type": "code",
   "execution_count": null,
   "metadata": {
    "colab": {
     "base_uri": "https://localhost:8080/"
    },
    "executionInfo": {
     "elapsed": 225457,
     "status": "ok",
     "timestamp": 1692837559032,
     "user": {
      "displayName": "Simon Yun",
      "userId": "11811271085600274583"
     },
     "user_tz": -540
    },
    "id": "2et44NHztgcB",
    "outputId": "ba987baf-b0b0-4ceb-b557-fca72e8c6de9"
   },
   "outputs": [
    {
     "name": "stderr",
     "output_type": "stream",
     "text": [
      "100%|██████████| 112340/112340 [00:23<00:00, 4810.65it/s]\n"
     ]
    },
    {
     "name": "stdout",
     "output_type": "stream",
     "text": [
      "3511/3511 [==============================] - 198s 56ms/step\n"
     ]
    }
   ],
   "source": [
    "# 부른 파일 pred\n",
    "\n",
    "test_set = predict_load_data(df_input)\n",
    "preds = sentiment_model.predict(test_set)"
   ]
  },
  {
   "cell_type": "code",
   "execution_count": null,
   "metadata": {
    "colab": {
     "base_uri": "https://localhost:8080/",
     "height": 874
    },
    "executionInfo": {
     "elapsed": 7,
     "status": "ok",
     "timestamp": 1692837559033,
     "user": {
      "displayName": "Simon Yun",
      "userId": "11811271085600274583"
     },
     "user_tz": -540
    },
    "id": "Fm1girZ5l21i",
    "outputId": "222b6c25-cfa9-4c10-983f-213236d3f089"
   },
   "outputs": [
    {
     "data": {
      "text/html": [
       "\n",
       "  <div id=\"df-2d00c59f-1bcd-4015-bb4c-1b7afff7de72\" class=\"colab-df-container\">\n",
       "    <div>\n",
       "<style scoped>\n",
       "    .dataframe tbody tr th:only-of-type {\n",
       "        vertical-align: middle;\n",
       "    }\n",
       "\n",
       "    .dataframe tbody tr th {\n",
       "        vertical-align: top;\n",
       "    }\n",
       "\n",
       "    .dataframe thead th {\n",
       "        text-align: right;\n",
       "    }\n",
       "</style>\n",
       "<table border=\"1\" class=\"dataframe\">\n",
       "  <thead>\n",
       "    <tr style=\"text-align: right;\">\n",
       "      <th></th>\n",
       "      <th>Unnamed: 0</th>\n",
       "      <th>restaurant_name</th>\n",
       "      <th>review_content</th>\n",
       "      <th>rating</th>\n",
       "      <th>date</th>\n",
       "      <th>visit</th>\n",
       "      <th>register</th>\n",
       "      <th>category</th>\n",
       "      <th>org_review_content</th>\n",
       "      <th>pred_proba</th>\n",
       "      <th>pred_rating</th>\n",
       "    </tr>\n",
       "  </thead>\n",
       "  <tbody>\n",
       "    <tr>\n",
       "      <th>0</th>\n",
       "      <td>0</td>\n",
       "      <td>전포동 베이비치크</td>\n",
       "      <td>아기자기하고 빈티지한 분위기가 좋았어요 명란청양오일파스타랑 트러플버섯크림리조또 먹었...</td>\n",
       "      <td>NaN</td>\n",
       "      <td>2023-08-02</td>\n",
       "      <td>1</td>\n",
       "      <td>영수증</td>\n",
       "      <td>양식</td>\n",
       "      <td>아기자기하고 빈티지한 분위기가 좋았어요ㅎㅎ 명란청양오일파스타랑 트러플버섯크림리조또 ...</td>\n",
       "      <td>0.997354</td>\n",
       "      <td>1.0</td>\n",
       "    </tr>\n",
       "    <tr>\n",
       "      <th>1</th>\n",
       "      <td>1</td>\n",
       "      <td>전포동 베이비치크</td>\n",
       "      <td>입구부터 이쁜 공간이 너무 많아서 좋았던 이곳 취향저격 제대로 당해서 안으로 들어왔...</td>\n",
       "      <td>NaN</td>\n",
       "      <td>2023-08-01</td>\n",
       "      <td>1</td>\n",
       "      <td>영수증</td>\n",
       "      <td>양식</td>\n",
       "      <td>입구부터 이쁜 공간이 너무 많아서 좋았던 이곳 취향저격 제대로 당해서 안으로 들어왔...</td>\n",
       "      <td>0.997815</td>\n",
       "      <td>1.0</td>\n",
       "    </tr>\n",
       "    <tr>\n",
       "      <th>2</th>\n",
       "      <td>2</td>\n",
       "      <td>전포동 베이비치크</td>\n",
       "      <td>와    오랜만에 너무 만족스러운 식사하고 왔어여 매장 분위기도 너무 좋고 예쁘신 ...</td>\n",
       "      <td>NaN</td>\n",
       "      <td>2023-07-24</td>\n",
       "      <td>1</td>\n",
       "      <td>영수증</td>\n",
       "      <td>양식</td>\n",
       "      <td>와..오랜만에 너무 만족스러운 식사하고 왔어여ㅠ 매장 분위기도 너무 좋고 예쁘신 사...</td>\n",
       "      <td>0.997788</td>\n",
       "      <td>1.0</td>\n",
       "    </tr>\n",
       "    <tr>\n",
       "      <th>3</th>\n",
       "      <td>3</td>\n",
       "      <td>전포동 베이비치크</td>\n",
       "      <td>지난번에 너무 맛있게 먹고 이번에 재방문했어요   베이비치크 플레이트는 진짜 무조건...</td>\n",
       "      <td>NaN</td>\n",
       "      <td>2023-08-09</td>\n",
       "      <td>1</td>\n",
       "      <td>영수증</td>\n",
       "      <td>양식</td>\n",
       "      <td>지난번에 너무 맛있게 먹고 이번에 재방문했어요! 베이비치크 플레이트는 진짜 무조건 ...</td>\n",
       "      <td>0.997869</td>\n",
       "      <td>1.0</td>\n",
       "    </tr>\n",
       "    <tr>\n",
       "      <th>4</th>\n",
       "      <td>4</td>\n",
       "      <td>전포동 베이비치크</td>\n",
       "      <td>양 진짜 많고 너무 맛있어요 안에도 아기자기 앤티크하게 잘 꾸며져있고 감성도 맛도 ...</td>\n",
       "      <td>NaN</td>\n",
       "      <td>2023-07-05</td>\n",
       "      <td>1</td>\n",
       "      <td>영수증</td>\n",
       "      <td>양식</td>\n",
       "      <td>양 진짜 많고 너무 맛있어요ㅠㅠ 안에도 아기자기 앤티크하게 잘 꾸며져있고ㅠㅠㅠ 감성...</td>\n",
       "      <td>0.997817</td>\n",
       "      <td>1.0</td>\n",
       "    </tr>\n",
       "    <tr>\n",
       "      <th>...</th>\n",
       "      <td>...</td>\n",
       "      <td>...</td>\n",
       "      <td>...</td>\n",
       "      <td>...</td>\n",
       "      <td>...</td>\n",
       "      <td>...</td>\n",
       "      <td>...</td>\n",
       "      <td>...</td>\n",
       "      <td>...</td>\n",
       "      <td>...</td>\n",
       "      <td>...</td>\n",
       "    </tr>\n",
       "    <tr>\n",
       "      <th>112335</th>\n",
       "      <td>116259</td>\n",
       "      <td>양정동 명심이족발</td>\n",
       "      <td>맛있어요</td>\n",
       "      <td>5.0</td>\n",
       "      <td>2020-12-19</td>\n",
       "      <td>1</td>\n",
       "      <td>영수증</td>\n",
       "      <td>족발,보쌈</td>\n",
       "      <td>맛있어요</td>\n",
       "      <td>0.905437</td>\n",
       "      <td>1.0</td>\n",
       "    </tr>\n",
       "    <tr>\n",
       "      <th>112336</th>\n",
       "      <td>116260</td>\n",
       "      <td>양정동 명심이족발</td>\n",
       "      <td>맛있고 양도 많았어요</td>\n",
       "      <td>5.0</td>\n",
       "      <td>2020-12-25</td>\n",
       "      <td>2</td>\n",
       "      <td>영수증</td>\n",
       "      <td>족발,보쌈</td>\n",
       "      <td>맛있고 양도 많았어요!</td>\n",
       "      <td>0.985904</td>\n",
       "      <td>1.0</td>\n",
       "    </tr>\n",
       "    <tr>\n",
       "      <th>112337</th>\n",
       "      <td>116261</td>\n",
       "      <td>양정동 명심이족발</td>\n",
       "      <td>좋아요</td>\n",
       "      <td>3.5</td>\n",
       "      <td>2020-10-29</td>\n",
       "      <td>1</td>\n",
       "      <td>영수증</td>\n",
       "      <td>족발,보쌈</td>\n",
       "      <td>좋아요</td>\n",
       "      <td>0.913858</td>\n",
       "      <td>1.0</td>\n",
       "    </tr>\n",
       "    <tr>\n",
       "      <th>112338</th>\n",
       "      <td>116262</td>\n",
       "      <td>양정동 명심이족발</td>\n",
       "      <td>맛있어요</td>\n",
       "      <td>3.5</td>\n",
       "      <td>2019-12-15</td>\n",
       "      <td>1</td>\n",
       "      <td>영수증</td>\n",
       "      <td>족발,보쌈</td>\n",
       "      <td>맛있어요</td>\n",
       "      <td>0.905437</td>\n",
       "      <td>1.0</td>\n",
       "    </tr>\n",
       "    <tr>\n",
       "      <th>112339</th>\n",
       "      <td>116263</td>\n",
       "      <td>양정동 명심이족발</td>\n",
       "      <td>좋아요</td>\n",
       "      <td>NaN</td>\n",
       "      <td>2022-02-22</td>\n",
       "      <td>1</td>\n",
       "      <td>영수증</td>\n",
       "      <td>족발,보쌈</td>\n",
       "      <td>좋아요</td>\n",
       "      <td>0.913858</td>\n",
       "      <td>1.0</td>\n",
       "    </tr>\n",
       "  </tbody>\n",
       "</table>\n",
       "<p>112340 rows × 11 columns</p>\n",
       "</div>\n",
       "    <div class=\"colab-df-buttons\">\n",
       "\n",
       "  <div class=\"colab-df-container\">\n",
       "    <button class=\"colab-df-convert\" onclick=\"convertToInteractive('df-2d00c59f-1bcd-4015-bb4c-1b7afff7de72')\"\n",
       "            title=\"Convert this dataframe to an interactive table.\"\n",
       "            style=\"display:none;\">\n",
       "\n",
       "  <svg xmlns=\"http://www.w3.org/2000/svg\" height=\"24px\" viewBox=\"0 -960 960 960\">\n",
       "    <path d=\"M120-120v-720h720v720H120Zm60-500h600v-160H180v160Zm220 220h160v-160H400v160Zm0 220h160v-160H400v160ZM180-400h160v-160H180v160Zm440 0h160v-160H620v160ZM180-180h160v-160H180v160Zm440 0h160v-160H620v160Z\"/>\n",
       "  </svg>\n",
       "    </button>\n",
       "\n",
       "  <style>\n",
       "    .colab-df-container {\n",
       "      display:flex;\n",
       "      gap: 12px;\n",
       "    }\n",
       "\n",
       "    .colab-df-convert {\n",
       "      background-color: #E8F0FE;\n",
       "      border: none;\n",
       "      border-radius: 50%;\n",
       "      cursor: pointer;\n",
       "      display: none;\n",
       "      fill: #1967D2;\n",
       "      height: 32px;\n",
       "      padding: 0 0 0 0;\n",
       "      width: 32px;\n",
       "    }\n",
       "\n",
       "    .colab-df-convert:hover {\n",
       "      background-color: #E2EBFA;\n",
       "      box-shadow: 0px 1px 2px rgba(60, 64, 67, 0.3), 0px 1px 3px 1px rgba(60, 64, 67, 0.15);\n",
       "      fill: #174EA6;\n",
       "    }\n",
       "\n",
       "    .colab-df-buttons div {\n",
       "      margin-bottom: 4px;\n",
       "    }\n",
       "\n",
       "    [theme=dark] .colab-df-convert {\n",
       "      background-color: #3B4455;\n",
       "      fill: #D2E3FC;\n",
       "    }\n",
       "\n",
       "    [theme=dark] .colab-df-convert:hover {\n",
       "      background-color: #434B5C;\n",
       "      box-shadow: 0px 1px 3px 1px rgba(0, 0, 0, 0.15);\n",
       "      filter: drop-shadow(0px 1px 2px rgba(0, 0, 0, 0.3));\n",
       "      fill: #FFFFFF;\n",
       "    }\n",
       "  </style>\n",
       "\n",
       "    <script>\n",
       "      const buttonEl =\n",
       "        document.querySelector('#df-2d00c59f-1bcd-4015-bb4c-1b7afff7de72 button.colab-df-convert');\n",
       "      buttonEl.style.display =\n",
       "        google.colab.kernel.accessAllowed ? 'block' : 'none';\n",
       "\n",
       "      async function convertToInteractive(key) {\n",
       "        const element = document.querySelector('#df-2d00c59f-1bcd-4015-bb4c-1b7afff7de72');\n",
       "        const dataTable =\n",
       "          await google.colab.kernel.invokeFunction('convertToInteractive',\n",
       "                                                    [key], {});\n",
       "        if (!dataTable) return;\n",
       "\n",
       "        const docLinkHtml = 'Like what you see? Visit the ' +\n",
       "          '<a target=\"_blank\" href=https://colab.research.google.com/notebooks/data_table.ipynb>data table notebook</a>'\n",
       "          + ' to learn more about interactive tables.';\n",
       "        element.innerHTML = '';\n",
       "        dataTable['output_type'] = 'display_data';\n",
       "        await google.colab.output.renderOutput(dataTable, element);\n",
       "        const docLink = document.createElement('div');\n",
       "        docLink.innerHTML = docLinkHtml;\n",
       "        element.appendChild(docLink);\n",
       "      }\n",
       "    </script>\n",
       "  </div>\n",
       "\n",
       "\n",
       "<div id=\"df-739078cd-e05e-465c-8ad0-d289ad3f911f\">\n",
       "  <button class=\"colab-df-quickchart\" onclick=\"quickchart('df-739078cd-e05e-465c-8ad0-d289ad3f911f')\"\n",
       "            title=\"Suggest charts.\"\n",
       "            style=\"display:none;\">\n",
       "\n",
       "<svg xmlns=\"http://www.w3.org/2000/svg\" height=\"24px\"viewBox=\"0 0 24 24\"\n",
       "     width=\"24px\">\n",
       "    <g>\n",
       "        <path d=\"M19 3H5c-1.1 0-2 .9-2 2v14c0 1.1.9 2 2 2h14c1.1 0 2-.9 2-2V5c0-1.1-.9-2-2-2zM9 17H7v-7h2v7zm4 0h-2V7h2v10zm4 0h-2v-4h2v4z\"/>\n",
       "    </g>\n",
       "</svg>\n",
       "  </button>\n",
       "\n",
       "<style>\n",
       "  .colab-df-quickchart {\n",
       "    background-color: #E8F0FE;\n",
       "    border: none;\n",
       "    border-radius: 50%;\n",
       "    cursor: pointer;\n",
       "    display: none;\n",
       "    fill: #1967D2;\n",
       "    height: 32px;\n",
       "    padding: 0 0 0 0;\n",
       "    width: 32px;\n",
       "  }\n",
       "\n",
       "  .colab-df-quickchart:hover {\n",
       "    background-color: #E2EBFA;\n",
       "    box-shadow: 0px 1px 2px rgba(60, 64, 67, 0.3), 0px 1px 3px 1px rgba(60, 64, 67, 0.15);\n",
       "    fill: #174EA6;\n",
       "  }\n",
       "\n",
       "  [theme=dark] .colab-df-quickchart {\n",
       "    background-color: #3B4455;\n",
       "    fill: #D2E3FC;\n",
       "  }\n",
       "\n",
       "  [theme=dark] .colab-df-quickchart:hover {\n",
       "    background-color: #434B5C;\n",
       "    box-shadow: 0px 1px 3px 1px rgba(0, 0, 0, 0.15);\n",
       "    filter: drop-shadow(0px 1px 2px rgba(0, 0, 0, 0.3));\n",
       "    fill: #FFFFFF;\n",
       "  }\n",
       "</style>\n",
       "\n",
       "  <script>\n",
       "    async function quickchart(key) {\n",
       "      const charts = await google.colab.kernel.invokeFunction(\n",
       "          'suggestCharts', [key], {});\n",
       "    }\n",
       "    (() => {\n",
       "      let quickchartButtonEl =\n",
       "        document.querySelector('#df-739078cd-e05e-465c-8ad0-d289ad3f911f button');\n",
       "      quickchartButtonEl.style.display =\n",
       "        google.colab.kernel.accessAllowed ? 'block' : 'none';\n",
       "    })();\n",
       "  </script>\n",
       "</div>\n",
       "    </div>\n",
       "  </div>\n"
      ],
      "text/plain": [
       "        Unnamed: 0 restaurant_name  \\\n",
       "0                0       전포동 베이비치크   \n",
       "1                1       전포동 베이비치크   \n",
       "2                2       전포동 베이비치크   \n",
       "3                3       전포동 베이비치크   \n",
       "4                4       전포동 베이비치크   \n",
       "...            ...             ...   \n",
       "112335      116259       양정동 명심이족발   \n",
       "112336      116260       양정동 명심이족발   \n",
       "112337      116261       양정동 명심이족발   \n",
       "112338      116262       양정동 명심이족발   \n",
       "112339      116263       양정동 명심이족발   \n",
       "\n",
       "                                           review_content  rating        date  \\\n",
       "0       아기자기하고 빈티지한 분위기가 좋았어요 명란청양오일파스타랑 트러플버섯크림리조또 먹었...     NaN  2023-08-02   \n",
       "1       입구부터 이쁜 공간이 너무 많아서 좋았던 이곳 취향저격 제대로 당해서 안으로 들어왔...     NaN  2023-08-01   \n",
       "2       와    오랜만에 너무 만족스러운 식사하고 왔어여 매장 분위기도 너무 좋고 예쁘신 ...     NaN  2023-07-24   \n",
       "3       지난번에 너무 맛있게 먹고 이번에 재방문했어요   베이비치크 플레이트는 진짜 무조건...     NaN  2023-08-09   \n",
       "4       양 진짜 많고 너무 맛있어요 안에도 아기자기 앤티크하게 잘 꾸며져있고 감성도 맛도 ...     NaN  2023-07-05   \n",
       "...                                                   ...     ...         ...   \n",
       "112335                                               맛있어요     5.0  2020-12-19   \n",
       "112336                                       맛있고 양도 많았어요      5.0  2020-12-25   \n",
       "112337                                                좋아요     3.5  2020-10-29   \n",
       "112338                                               맛있어요     3.5  2019-12-15   \n",
       "112339                                                좋아요     NaN  2022-02-22   \n",
       "\n",
       "        visit register category  \\\n",
       "0           1      영수증       양식   \n",
       "1           1      영수증       양식   \n",
       "2           1      영수증       양식   \n",
       "3           1      영수증       양식   \n",
       "4           1      영수증       양식   \n",
       "...       ...      ...      ...   \n",
       "112335      1      영수증    족발,보쌈   \n",
       "112336      2      영수증    족발,보쌈   \n",
       "112337      1      영수증    족발,보쌈   \n",
       "112338      1      영수증    족발,보쌈   \n",
       "112339      1      영수증    족발,보쌈   \n",
       "\n",
       "                                       org_review_content  pred_proba  \\\n",
       "0       아기자기하고 빈티지한 분위기가 좋았어요ㅎㅎ 명란청양오일파스타랑 트러플버섯크림리조또 ...    0.997354   \n",
       "1       입구부터 이쁜 공간이 너무 많아서 좋았던 이곳 취향저격 제대로 당해서 안으로 들어왔...    0.997815   \n",
       "2       와..오랜만에 너무 만족스러운 식사하고 왔어여ㅠ 매장 분위기도 너무 좋고 예쁘신 사...    0.997788   \n",
       "3       지난번에 너무 맛있게 먹고 이번에 재방문했어요! 베이비치크 플레이트는 진짜 무조건 ...    0.997869   \n",
       "4       양 진짜 많고 너무 맛있어요ㅠㅠ 안에도 아기자기 앤티크하게 잘 꾸며져있고ㅠㅠㅠ 감성...    0.997817   \n",
       "...                                                   ...         ...   \n",
       "112335                                               맛있어요    0.905437   \n",
       "112336                                       맛있고 양도 많았어요!    0.985904   \n",
       "112337                                                좋아요    0.913858   \n",
       "112338                                               맛있어요    0.905437   \n",
       "112339                                                좋아요    0.913858   \n",
       "\n",
       "        pred_rating  \n",
       "0               1.0  \n",
       "1               1.0  \n",
       "2               1.0  \n",
       "3               1.0  \n",
       "4               1.0  \n",
       "...             ...  \n",
       "112335          1.0  \n",
       "112336          1.0  \n",
       "112337          1.0  \n",
       "112338          1.0  \n",
       "112339          1.0  \n",
       "\n",
       "[112340 rows x 11 columns]"
      ]
     },
     "execution_count": 69,
     "metadata": {},
     "output_type": "execute_result"
    }
   ],
   "source": [
    "# pred 결과 dataframe에 추가\n",
    "\n",
    "df_input['pred_proba'] = preds.reshape(-1)\n",
    "df_input['pred_rating'] = np.nan\n",
    "df_input.loc[df_input['pred_proba'] > 0.5,'pred_rating'] = 1\n",
    "df_input.loc[df_input['pred_proba'] <= 0.5,'pred_rating'] = 0\n",
    "df_input"
   ]
  },
  {
   "cell_type": "code",
   "execution_count": null,
   "metadata": {
    "id": "Z3dHmhdFgyd2"
   },
   "outputs": [],
   "source": [
    "# 결과 데이터프레임 저장\n",
    "\n",
    "df_input.to_excel(\"./data/230824_df_input_preped_with_pred_6차.xlsx\")"
   ]
  },
  {
   "cell_type": "code",
   "execution_count": null,
   "metadata": {
    "id": "aBpgDj14d8Xs"
   },
   "outputs": [],
   "source": []
  }
 ],
 "metadata": {
  "accelerator": "GPU",
  "colab": {
   "gpuType": "V100",
   "machine_shape": "hm",
   "provenance": [
    {
     "file_id": "1xb4JE_cXkXTbNlyvR41yEWBNW79AVMre",
     "timestamp": 1685828976117
    }
   ]
  },
  "kernelspec": {
   "display_name": "Python 3 (ipykernel)",
   "language": "python",
   "name": "python3"
  },
  "language_info": {
   "codemirror_mode": {
    "name": "ipython",
    "version": 3
   },
   "file_extension": ".py",
   "mimetype": "text/x-python",
   "name": "python",
   "nbconvert_exporter": "python",
   "pygments_lexer": "ipython3",
   "version": "3.9.17"
  }
 },
 "nbformat": 4,
 "nbformat_minor": 1
}
