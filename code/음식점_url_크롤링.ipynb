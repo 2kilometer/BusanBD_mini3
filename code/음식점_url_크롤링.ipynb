{
 "cells": [
  {
   "cell_type": "markdown",
   "metadata": {},
   "source": [
    "## 식당 검색어를 통해 네이버 식당 페이지 url 얻기"
   ]
  },
  {
   "cell_type": "code",
   "execution_count": 1,
   "metadata": {},
   "outputs": [],
   "source": [
    "import pandas as pd\n",
    "from selenium import webdriver\n",
    "from selenium.webdriver.common.keys import Keys \n",
    "from selenium.common.exceptions import NoSuchElementException \n",
    "\n",
    "import time\n",
    "import re\n",
    "from bs4 import BeautifulSoup \n",
    "from tqdm import tqdm \n"
   ]
  },
  {
   "cell_type": "code",
   "execution_count": 2,
   "metadata": {},
   "outputs": [
    {
     "data": {
      "text/html": [
       "<div>\n",
       "<style scoped>\n",
       "    .dataframe tbody tr th:only-of-type {\n",
       "        vertical-align: middle;\n",
       "    }\n",
       "\n",
       "    .dataframe tbody tr th {\n",
       "        vertical-align: top;\n",
       "    }\n",
       "\n",
       "    .dataframe thead th {\n",
       "        text-align: right;\n",
       "    }\n",
       "</style>\n",
       "<table border=\"1\" class=\"dataframe\">\n",
       "  <thead>\n",
       "    <tr style=\"text-align: right;\">\n",
       "      <th></th>\n",
       "      <th>사업장명</th>\n",
       "      <th>업태구분명</th>\n",
       "      <th>소재지전화</th>\n",
       "      <th>소재지전체주소</th>\n",
       "      <th>도로명전체주소</th>\n",
       "      <th>좌표정보(x)</th>\n",
       "      <th>좌표정보(y)</th>\n",
       "      <th>영업상태명</th>\n",
       "      <th>naver_map_url</th>\n",
       "      <th>구</th>\n",
       "      <th>동</th>\n",
       "      <th>검색어</th>\n",
       "      <th>검색어2</th>\n",
       "    </tr>\n",
       "  </thead>\n",
       "  <tbody>\n",
       "    <tr>\n",
       "      <th>0</th>\n",
       "      <td>유가네닭갈비개금점(1F)</td>\n",
       "      <td>기타</td>\n",
       "      <td>051-891-3311</td>\n",
       "      <td>부산광역시 부산진구 가야동 632-5번지 (1층)</td>\n",
       "      <td>부산광역시 부산진구 가야대로498번길 28-3, 1층 (가야동)</td>\n",
       "      <td>384584.007571</td>\n",
       "      <td>185487.929276</td>\n",
       "      <td>영업/정상</td>\n",
       "      <td>NaN</td>\n",
       "      <td>부산진구</td>\n",
       "      <td>가야동</td>\n",
       "      <td>가야동 유가네닭갈비개금점(1F)</td>\n",
       "      <td>가야동 유가네닭갈비개금점(1F) 051-891-3311</td>\n",
       "    </tr>\n",
       "    <tr>\n",
       "      <th>1</th>\n",
       "      <td>부흥</td>\n",
       "      <td>기타</td>\n",
       "      <td>NaN</td>\n",
       "      <td>부산광역시 부산진구 부전동 168-24 지상1층</td>\n",
       "      <td>부산광역시 부산진구 서전로10번길 13, 지상1층 (부전동)</td>\n",
       "      <td>387692.080955</td>\n",
       "      <td>186146.055615</td>\n",
       "      <td>영업/정상</td>\n",
       "      <td>NaN</td>\n",
       "      <td>부산진구</td>\n",
       "      <td>부전동</td>\n",
       "      <td>부전동 부흥</td>\n",
       "      <td>부전동 부흥</td>\n",
       "    </tr>\n",
       "    <tr>\n",
       "      <th>2</th>\n",
       "      <td>처마집</td>\n",
       "      <td>기타</td>\n",
       "      <td>NaN</td>\n",
       "      <td>부산광역시 부산진구 부전동 168-45 1층</td>\n",
       "      <td>부산광역시 부산진구 동천로85번길 40, 1층 (부전동)</td>\n",
       "      <td>387671.721134</td>\n",
       "      <td>186123.027658</td>\n",
       "      <td>영업/정상</td>\n",
       "      <td>NaN</td>\n",
       "      <td>부산진구</td>\n",
       "      <td>부전동</td>\n",
       "      <td>부전동 처마집</td>\n",
       "      <td>부전동 처마집</td>\n",
       "    </tr>\n",
       "    <tr>\n",
       "      <th>3</th>\n",
       "      <td>승승(초읍점)</td>\n",
       "      <td>한식</td>\n",
       "      <td>051-816-4491</td>\n",
       "      <td>부산광역시 부산진구 초읍동 269-14번지 지상1층일부</td>\n",
       "      <td>부산광역시 부산진구 새싹로 202 (초읍동, 지상1층일부)</td>\n",
       "      <td>386612.328012</td>\n",
       "      <td>188034.194575</td>\n",
       "      <td>영업/정상</td>\n",
       "      <td>NaN</td>\n",
       "      <td>부산진구</td>\n",
       "      <td>초읍동</td>\n",
       "      <td>초읍동 승승(초읍점)</td>\n",
       "      <td>초읍동 승승(초읍점) 051-816-4491</td>\n",
       "    </tr>\n",
       "    <tr>\n",
       "      <th>4</th>\n",
       "      <td>소나무집</td>\n",
       "      <td>한식</td>\n",
       "      <td>051-809-6650</td>\n",
       "      <td>부산광역시 부산진구 초읍동 463번지 지상1층일부)</td>\n",
       "      <td>부산광역시 부산진구 월드컵대로 465 (초읍동, 지상1층일부)</td>\n",
       "      <td>386685.176132</td>\n",
       "      <td>188925.522405</td>\n",
       "      <td>영업/정상</td>\n",
       "      <td>NaN</td>\n",
       "      <td>부산진구</td>\n",
       "      <td>초읍동</td>\n",
       "      <td>초읍동 소나무집</td>\n",
       "      <td>초읍동 소나무집 051-809-6650</td>\n",
       "    </tr>\n",
       "    <tr>\n",
       "      <th>...</th>\n",
       "      <td>...</td>\n",
       "      <td>...</td>\n",
       "      <td>...</td>\n",
       "      <td>...</td>\n",
       "      <td>...</td>\n",
       "      <td>...</td>\n",
       "      <td>...</td>\n",
       "      <td>...</td>\n",
       "      <td>...</td>\n",
       "      <td>...</td>\n",
       "      <td>...</td>\n",
       "      <td>...</td>\n",
       "      <td>...</td>\n",
       "    </tr>\n",
       "    <tr>\n",
       "      <th>495</th>\n",
       "      <td>마카오</td>\n",
       "      <td>한식</td>\n",
       "      <td>NaN</td>\n",
       "      <td>부산광역시 부산진구 부전동 240-6</td>\n",
       "      <td>부산광역시 부산진구 신천대로62번길 67, 1층 (부전동)</td>\n",
       "      <td>387483.804616</td>\n",
       "      <td>185785.048132</td>\n",
       "      <td>영업/정상</td>\n",
       "      <td>NaN</td>\n",
       "      <td>부산진구</td>\n",
       "      <td>부전동</td>\n",
       "      <td>부전동 마카오</td>\n",
       "      <td>부전동 마카오</td>\n",
       "    </tr>\n",
       "    <tr>\n",
       "      <th>496</th>\n",
       "      <td>파커(Parker)</td>\n",
       "      <td>기타</td>\n",
       "      <td>NaN</td>\n",
       "      <td>부산광역시 부산진구 전포동 308-3 스카이빌</td>\n",
       "      <td>부산광역시 부산진구 전포대로216번길 26, 스카이빌 1층 (전포동)</td>\n",
       "      <td>388271.837860</td>\n",
       "      <td>186016.108666</td>\n",
       "      <td>영업/정상</td>\n",
       "      <td>NaN</td>\n",
       "      <td>부산진구</td>\n",
       "      <td>전포동</td>\n",
       "      <td>전포동 파커(Parker)</td>\n",
       "      <td>전포동 파커(Parker)</td>\n",
       "    </tr>\n",
       "    <tr>\n",
       "      <th>497</th>\n",
       "      <td>광화문명가</td>\n",
       "      <td>한식</td>\n",
       "      <td>NaN</td>\n",
       "      <td>부산광역시 부산진구 부전동 256-6</td>\n",
       "      <td>부산광역시 부산진구 서면로 56, 1층 타32호 (부전동)</td>\n",
       "      <td>387468.480136</td>\n",
       "      <td>185990.346087</td>\n",
       "      <td>영업/정상</td>\n",
       "      <td>NaN</td>\n",
       "      <td>부산진구</td>\n",
       "      <td>부전동</td>\n",
       "      <td>부전동 광화문명가</td>\n",
       "      <td>부전동 광화문명가</td>\n",
       "    </tr>\n",
       "    <tr>\n",
       "      <th>498</th>\n",
       "      <td>우리집밥상</td>\n",
       "      <td>한식</td>\n",
       "      <td>051-4663567</td>\n",
       "      <td>부산광역시 부산진구 부전동 475-12</td>\n",
       "      <td>부산광역시 부산진구 부전로96번길 36, 1층 (부전동)</td>\n",
       "      <td>387327.064275</td>\n",
       "      <td>186320.465355</td>\n",
       "      <td>영업/정상</td>\n",
       "      <td>NaN</td>\n",
       "      <td>부산진구</td>\n",
       "      <td>부전동</td>\n",
       "      <td>부전동 우리집밥상</td>\n",
       "      <td>부전동 우리집밥상 051-4663567</td>\n",
       "    </tr>\n",
       "    <tr>\n",
       "      <th>499</th>\n",
       "      <td>그릭하다</td>\n",
       "      <td>기타</td>\n",
       "      <td>NaN</td>\n",
       "      <td>부산광역시 부산진구 전포동 663-9</td>\n",
       "      <td>부산광역시 부산진구 동천로108번길 41, 1층 (전포동)</td>\n",
       "      <td>388055.172900</td>\n",
       "      <td>186310.970593</td>\n",
       "      <td>영업/정상</td>\n",
       "      <td>NaN</td>\n",
       "      <td>부산진구</td>\n",
       "      <td>전포동</td>\n",
       "      <td>전포동 그릭하다</td>\n",
       "      <td>전포동 그릭하다</td>\n",
       "    </tr>\n",
       "  </tbody>\n",
       "</table>\n",
       "<p>500 rows × 13 columns</p>\n",
       "</div>"
      ],
      "text/plain": [
       "              사업장명 업태구분명         소재지전화                         소재지전체주소  \\\n",
       "0    유가네닭갈비개금점(1F)    기타  051-891-3311     부산광역시 부산진구 가야동 632-5번지 (1층)   \n",
       "1               부흥    기타           NaN      부산광역시 부산진구 부전동 168-24 지상1층   \n",
       "2              처마집    기타           NaN        부산광역시 부산진구 부전동 168-45 1층   \n",
       "3          승승(초읍점)    한식  051-816-4491  부산광역시 부산진구 초읍동 269-14번지 지상1층일부   \n",
       "4             소나무집    한식  051-809-6650    부산광역시 부산진구 초읍동 463번지 지상1층일부)   \n",
       "..             ...   ...           ...                             ...   \n",
       "495            마카오    한식           NaN            부산광역시 부산진구 부전동 240-6   \n",
       "496     파커(Parker)    기타           NaN       부산광역시 부산진구 전포동 308-3 스카이빌   \n",
       "497          광화문명가    한식           NaN            부산광역시 부산진구 부전동 256-6   \n",
       "498          우리집밥상    한식   051-4663567           부산광역시 부산진구 부전동 475-12   \n",
       "499           그릭하다    기타           NaN            부산광역시 부산진구 전포동 663-9   \n",
       "\n",
       "                                    도로명전체주소        좌표정보(x)        좌표정보(y)  \\\n",
       "0       부산광역시 부산진구 가야대로498번길 28-3, 1층 (가야동)  384584.007571  185487.929276   \n",
       "1         부산광역시 부산진구 서전로10번길 13, 지상1층 (부전동)  387692.080955  186146.055615   \n",
       "2           부산광역시 부산진구 동천로85번길 40, 1층 (부전동)  387671.721134  186123.027658   \n",
       "3          부산광역시 부산진구 새싹로 202 (초읍동, 지상1층일부)  386612.328012  188034.194575   \n",
       "4        부산광역시 부산진구 월드컵대로 465 (초읍동, 지상1층일부)  386685.176132  188925.522405   \n",
       "..                                      ...            ...            ...   \n",
       "495        부산광역시 부산진구 신천대로62번길 67, 1층 (부전동)  387483.804616  185785.048132   \n",
       "496  부산광역시 부산진구 전포대로216번길 26, 스카이빌 1층 (전포동)  388271.837860  186016.108666   \n",
       "497        부산광역시 부산진구 서면로 56, 1층 타32호 (부전동)  387468.480136  185990.346087   \n",
       "498         부산광역시 부산진구 부전로96번길 36, 1층 (부전동)  387327.064275  186320.465355   \n",
       "499        부산광역시 부산진구 동천로108번길 41, 1층 (전포동)  388055.172900  186310.970593   \n",
       "\n",
       "     영업상태명  naver_map_url     구    동                검색어  \\\n",
       "0    영업/정상            NaN  부산진구  가야동  가야동 유가네닭갈비개금점(1F)   \n",
       "1    영업/정상            NaN  부산진구  부전동             부전동 부흥   \n",
       "2    영업/정상            NaN  부산진구  부전동            부전동 처마집   \n",
       "3    영업/정상            NaN  부산진구  초읍동        초읍동 승승(초읍점)   \n",
       "4    영업/정상            NaN  부산진구  초읍동           초읍동 소나무집   \n",
       "..     ...            ...   ...  ...                ...   \n",
       "495  영업/정상            NaN  부산진구  부전동            부전동 마카오   \n",
       "496  영업/정상            NaN  부산진구  전포동     전포동 파커(Parker)   \n",
       "497  영업/정상            NaN  부산진구  부전동          부전동 광화문명가   \n",
       "498  영업/정상            NaN  부산진구  부전동          부전동 우리집밥상   \n",
       "499  영업/정상            NaN  부산진구  전포동           전포동 그릭하다   \n",
       "\n",
       "                               검색어2  \n",
       "0    가야동 유가네닭갈비개금점(1F) 051-891-3311  \n",
       "1                           부전동 부흥   \n",
       "2                          부전동 처마집   \n",
       "3          초읍동 승승(초읍점) 051-816-4491  \n",
       "4             초읍동 소나무집 051-809-6650  \n",
       "..                              ...  \n",
       "495                        부전동 마카오   \n",
       "496                 전포동 파커(Parker)   \n",
       "497                      부전동 광화문명가   \n",
       "498           부전동 우리집밥상 051-4663567  \n",
       "499                       전포동 그릭하다   \n",
       "\n",
       "[500 rows x 13 columns]"
      ]
     },
     "execution_count": 2,
     "metadata": {},
     "output_type": "execute_result"
    }
   ],
   "source": [
    "# 음식점 리스트 파일 불러들이기\n",
    "\n",
    "file_name = './url검색용_분할자료/chunk_1500.csv'\n",
    "df = pd.read_csv(f'./{file_name}')\n",
    "df"
   ]
  },
  {
   "cell_type": "code",
   "execution_count": 3,
   "metadata": {},
   "outputs": [
    {
     "name": "stderr",
     "output_type": "stream",
     "text": [
      "C:\\Users\\ysj_1\\AppData\\Local\\Temp\\ipykernel_29136\\1903894952.py:1: DeprecationWarning: executable_path has been deprecated, please pass in a Service object\n",
      "  driver = webdriver.Chrome(executable_path='C:/Users/ysj_1/Documents/ds_study/driver/chromedriver.exe')\n"
     ]
    }
   ],
   "source": [
    "driver = webdriver.Chrome(executable_path='C:/Users/ysj_1/Documents/ds_study/driver/chromedriver.exe') \n",
    "# 웹드라이버가 설치된 경로를 지정해주시면 됩니다."
   ]
  },
  {
   "cell_type": "code",
   "execution_count": 4,
   "metadata": {},
   "outputs": [
    {
     "name": "stderr",
     "output_type": "stream",
     "text": [
      "432it [31:56,  4.26s/it]"
     ]
    },
    {
     "name": "stdout",
     "output_type": "stream",
     "text": [
      "https://pcmap.place.naver.com/restaurant/1234548205/review/visitor#\n",
      "이번에 찾을 키워드 : 433 / 500 행 부전동 숯꾸닭\n"
     ]
    },
    {
     "name": "stderr",
     "output_type": "stream",
     "text": [
      "433it [32:00,  4.26s/it]"
     ]
    },
    {
     "name": "stdout",
     "output_type": "stream",
     "text": [
      "none\n",
      "이번에 찾을 키워드 : 434 / 500 행 전포동 포도와인\n"
     ]
    },
    {
     "name": "stderr",
     "output_type": "stream",
     "text": [
      "434it [32:04,  4.24s/it]"
     ]
    },
    {
     "name": "stdout",
     "output_type": "stream",
     "text": [
      "none\n",
      "이번에 찾을 키워드 : 435 / 500 행 전포동 보릳집\n"
     ]
    },
    {
     "name": "stderr",
     "output_type": "stream",
     "text": [
      "435it [32:09,  4.25s/it]"
     ]
    },
    {
     "name": "stdout",
     "output_type": "stream",
     "text": [
      "https://pcmap.place.naver.com/restaurant/1462329056/review/visitor#\n",
      "이번에 찾을 키워드 : 436 / 500 행 가야동 임채환참치정육점\n"
     ]
    },
    {
     "name": "stderr",
     "output_type": "stream",
     "text": [
      "436it [32:13,  4.25s/it]"
     ]
    },
    {
     "name": "stdout",
     "output_type": "stream",
     "text": [
      "https://pcmap.place.naver.com/restaurant/1160683955/review/visitor#\n",
      "이번에 찾을 키워드 : 437 / 500 행 부전동 밀양마로니에포차\n"
     ]
    },
    {
     "name": "stderr",
     "output_type": "stream",
     "text": [
      "437it [32:17,  4.25s/it]"
     ]
    },
    {
     "name": "stdout",
     "output_type": "stream",
     "text": [
      "https://pcmap.place.naver.com/restaurant/1996225573/review/visitor#\n",
      "이번에 찾을 키워드 : 438 / 500 행 전포동 셔터(SHUTTER)\n"
     ]
    },
    {
     "name": "stderr",
     "output_type": "stream",
     "text": [
      "438it [32:21,  4.25s/it]"
     ]
    },
    {
     "name": "stdout",
     "output_type": "stream",
     "text": [
      "https://pcmap.place.naver.com/restaurant/1311488875/review/visitor#\n",
      "이번에 찾을 키워드 : 439 / 500 행 전포동 제프리\n"
     ]
    },
    {
     "name": "stderr",
     "output_type": "stream",
     "text": [
      "439it [32:26,  4.25s/it]"
     ]
    },
    {
     "name": "stdout",
     "output_type": "stream",
     "text": [
      "none\n",
      "이번에 찾을 키워드 : 440 / 500 행 부전동 유가솜씨닭갈비삼정타워점\n"
     ]
    },
    {
     "name": "stderr",
     "output_type": "stream",
     "text": [
      "440it [32:30,  4.25s/it]"
     ]
    },
    {
     "name": "stdout",
     "output_type": "stream",
     "text": [
      "none\n",
      "이번에 찾을 키워드 : 441 / 500 행 당감동 보배식당\n"
     ]
    },
    {
     "name": "stderr",
     "output_type": "stream",
     "text": [
      "441it [32:34,  4.26s/it]"
     ]
    },
    {
     "name": "stdout",
     "output_type": "stream",
     "text": [
      "none\n",
      "이번에 찾을 키워드 : 442 / 500 행 부전동 짬뽕관 서면점\n"
     ]
    },
    {
     "name": "stderr",
     "output_type": "stream",
     "text": [
      "442it [32:38,  4.27s/it]"
     ]
    },
    {
     "name": "stdout",
     "output_type": "stream",
     "text": [
      "none\n",
      "이번에 찾을 키워드 : 443 / 500 행 부전동 떡군이네떡볶이서면점\n"
     ]
    },
    {
     "name": "stderr",
     "output_type": "stream",
     "text": [
      "443it [32:43,  4.27s/it]"
     ]
    },
    {
     "name": "stdout",
     "output_type": "stream",
     "text": [
      "none\n",
      "이번에 찾을 키워드 : 444 / 500 행 양정동 언더그라운드 오공오\n"
     ]
    },
    {
     "name": "stderr",
     "output_type": "stream",
     "text": [
      "444it [32:47,  4.28s/it]"
     ]
    },
    {
     "name": "stdout",
     "output_type": "stream",
     "text": [
      "https://pcmap.place.naver.com/restaurant/1582669186/review/visitor#\n",
      "이번에 찾을 키워드 : 445 / 500 행 부전동 청킹익스프레스\n"
     ]
    },
    {
     "name": "stderr",
     "output_type": "stream",
     "text": [
      "445it [32:51,  4.27s/it]"
     ]
    },
    {
     "name": "stdout",
     "output_type": "stream",
     "text": [
      "https://pcmap.place.naver.com/restaurant/1072628553/review/visitor#\n",
      "이번에 찾을 키워드 : 446 / 500 행 개금동 꼬치9단\n"
     ]
    },
    {
     "name": "stderr",
     "output_type": "stream",
     "text": [
      "446it [32:55,  4.28s/it]"
     ]
    },
    {
     "name": "stdout",
     "output_type": "stream",
     "text": [
      "https://pcmap.place.naver.com/restaurant/1313086209/review/visitor#\n",
      "이번에 찾을 키워드 : 447 / 500 행 전포동 곱전당\n"
     ]
    },
    {
     "name": "stderr",
     "output_type": "stream",
     "text": [
      "447it [33:00,  4.28s/it]"
     ]
    },
    {
     "name": "stdout",
     "output_type": "stream",
     "text": [
      "https://pcmap.place.naver.com/restaurant/1554002634/review/visitor#\n",
      "이번에 찾을 키워드 : 448 / 500 행 전포동 연흥방\n"
     ]
    },
    {
     "name": "stderr",
     "output_type": "stream",
     "text": [
      "448it [33:04,  4.27s/it]"
     ]
    },
    {
     "name": "stdout",
     "output_type": "stream",
     "text": [
      "none\n",
      "이번에 찾을 키워드 : 449 / 500 행 부전동 청담동마녀김밥서면점\n"
     ]
    },
    {
     "name": "stderr",
     "output_type": "stream",
     "text": [
      "449it [33:08,  4.29s/it]"
     ]
    },
    {
     "name": "stdout",
     "output_type": "stream",
     "text": [
      "https://pcmap.place.naver.com/restaurant/1354059890/review/visitor#\n",
      "이번에 찾을 키워드 : 450 / 500 행 범천동 자담치킨 부산범천점\n"
     ]
    },
    {
     "name": "stderr",
     "output_type": "stream",
     "text": [
      "450it [33:13,  4.32s/it]"
     ]
    },
    {
     "name": "stdout",
     "output_type": "stream",
     "text": [
      "none\n",
      "이번에 찾을 키워드 : 451 / 500 행 전포동 생생뒷고기삼겹\n"
     ]
    },
    {
     "name": "stderr",
     "output_type": "stream",
     "text": [
      "451it [33:17,  4.31s/it]"
     ]
    },
    {
     "name": "stdout",
     "output_type": "stream",
     "text": [
      "https://pcmap.place.naver.com/restaurant/1349000382/review/visitor#\n",
      "이번에 찾을 키워드 : 452 / 500 행 개금동 행복푸드\n"
     ]
    },
    {
     "name": "stderr",
     "output_type": "stream",
     "text": [
      "452it [33:21,  4.29s/it]"
     ]
    },
    {
     "name": "stdout",
     "output_type": "stream",
     "text": [
      "none\n",
      "이번에 찾을 키워드 : 453 / 500 행 가야동 비에이치씨\n"
     ]
    },
    {
     "name": "stderr",
     "output_type": "stream",
     "text": [
      "453it [33:25,  4.26s/it]"
     ]
    },
    {
     "name": "stdout",
     "output_type": "stream",
     "text": [
      "none\n",
      "이번에 찾을 키워드 : 454 / 500 행 초읍동 형제횟집\n"
     ]
    },
    {
     "name": "stderr",
     "output_type": "stream",
     "text": [
      "454it [33:30,  4.26s/it]"
     ]
    },
    {
     "name": "stdout",
     "output_type": "stream",
     "text": [
      "https://pcmap.place.naver.com/restaurant/1121641969/review/visitor#\n",
      "이번에 찾을 키워드 : 455 / 500 행 전포동 미미테이블\n"
     ]
    },
    {
     "name": "stderr",
     "output_type": "stream",
     "text": [
      "455it [33:34,  4.27s/it]"
     ]
    },
    {
     "name": "stdout",
     "output_type": "stream",
     "text": [
      "https://pcmap.place.naver.com/restaurant/1550411424/review/visitor#\n",
      "이번에 찾을 키워드 : 456 / 500 행 전포동 더프타운(duff town)\n"
     ]
    },
    {
     "name": "stderr",
     "output_type": "stream",
     "text": [
      "456it [33:38,  4.25s/it]"
     ]
    },
    {
     "name": "stdout",
     "output_type": "stream",
     "text": [
      "https://pcmap.place.naver.com/restaurant/1774993437/review/visitor#\n",
      "이번에 찾을 키워드 : 457 / 500 행 전포동 앙요\n"
     ]
    },
    {
     "name": "stderr",
     "output_type": "stream",
     "text": [
      "457it [33:42,  4.25s/it]"
     ]
    },
    {
     "name": "stdout",
     "output_type": "stream",
     "text": [
      "https://pcmap.place.naver.com/restaurant/1312113038/review/visitor#\n",
      "이번에 찾을 키워드 : 458 / 500 행 전포동 수수바\n"
     ]
    },
    {
     "name": "stderr",
     "output_type": "stream",
     "text": [
      "458it [33:47,  4.24s/it]"
     ]
    },
    {
     "name": "stdout",
     "output_type": "stream",
     "text": [
      "https://pcmap.place.naver.com/restaurant/1932800168/review/visitor#\n",
      "이번에 찾을 키워드 : 459 / 500 행 당감동 오닭꼬치당감점\n"
     ]
    },
    {
     "name": "stderr",
     "output_type": "stream",
     "text": [
      "459it [33:51,  4.24s/it]"
     ]
    },
    {
     "name": "stdout",
     "output_type": "stream",
     "text": [
      "none\n",
      "이번에 찾을 키워드 : 460 / 500 행 양정동 춘리마라탕\n"
     ]
    },
    {
     "name": "stderr",
     "output_type": "stream",
     "text": [
      "460it [33:55,  4.22s/it]"
     ]
    },
    {
     "name": "stdout",
     "output_type": "stream",
     "text": [
      "none\n",
      "이번에 찾을 키워드 : 461 / 500 행 전포동 몽디종\n"
     ]
    },
    {
     "name": "stderr",
     "output_type": "stream",
     "text": [
      "461it [33:59,  4.24s/it]"
     ]
    },
    {
     "name": "stdout",
     "output_type": "stream",
     "text": [
      "none\n",
      "이번에 찾을 키워드 : 462 / 500 행 부전동 구스타보\n"
     ]
    },
    {
     "name": "stderr",
     "output_type": "stream",
     "text": [
      "462it [34:04,  4.25s/it]"
     ]
    },
    {
     "name": "stdout",
     "output_type": "stream",
     "text": [
      "https://pcmap.place.naver.com/restaurant/1918694561/review/visitor#\n",
      "이번에 찾을 키워드 : 463 / 500 행 전포동 타임슬래시\n"
     ]
    },
    {
     "name": "stderr",
     "output_type": "stream",
     "text": [
      "463it [34:08,  4.25s/it]"
     ]
    },
    {
     "name": "stdout",
     "output_type": "stream",
     "text": [
      "https://pcmap.place.naver.com/restaurant/1155817279/review/visitor#\n",
      "이번에 찾을 키워드 : 464 / 500 행 양정동 자담치킨양정점\n"
     ]
    },
    {
     "name": "stderr",
     "output_type": "stream",
     "text": [
      "464it [34:12,  4.27s/it]"
     ]
    },
    {
     "name": "stdout",
     "output_type": "stream",
     "text": [
      "none\n",
      "이번에 찾을 키워드 : 465 / 500 행 부전동 우세이자카야\n"
     ]
    },
    {
     "name": "stderr",
     "output_type": "stream",
     "text": [
      "465it [34:17,  4.27s/it]"
     ]
    },
    {
     "name": "stdout",
     "output_type": "stream",
     "text": [
      "https://pcmap.place.naver.com/restaurant/1736594404/review/visitor#\n",
      "이번에 찾을 키워드 : 466 / 500 행 부전동 쇼쿠지 서면점\n"
     ]
    },
    {
     "name": "stderr",
     "output_type": "stream",
     "text": [
      "466it [34:21,  4.28s/it]"
     ]
    },
    {
     "name": "stdout",
     "output_type": "stream",
     "text": [
      "https://pcmap.place.naver.com/restaurant/1329409769/review/visitor#\n",
      "이번에 찾을 키워드 : 467 / 500 행 전포동 떼떼오네\n"
     ]
    },
    {
     "name": "stderr",
     "output_type": "stream",
     "text": [
      "467it [34:25,  4.27s/it]"
     ]
    },
    {
     "name": "stdout",
     "output_type": "stream",
     "text": [
      "https://pcmap.place.naver.com/restaurant/1338838654/review/visitor#\n",
      "이번에 찾을 키워드 : 468 / 500 행 부전동 공인주\n"
     ]
    },
    {
     "name": "stderr",
     "output_type": "stream",
     "text": [
      "468it [34:29,  4.26s/it]"
     ]
    },
    {
     "name": "stdout",
     "output_type": "stream",
     "text": [
      "https://pcmap.place.naver.com/restaurant/1195223601/review/visitor#\n",
      "이번에 찾을 키워드 : 469 / 500 행 개금동 덮덮밥 개금점\n"
     ]
    },
    {
     "name": "stderr",
     "output_type": "stream",
     "text": [
      "469it [34:34,  4.26s/it]"
     ]
    },
    {
     "name": "stdout",
     "output_type": "stream",
     "text": [
      "none\n",
      "이번에 찾을 키워드 : 470 / 500 행 전포동 한성각\n"
     ]
    },
    {
     "name": "stderr",
     "output_type": "stream",
     "text": [
      "470it [34:38,  4.26s/it]"
     ]
    },
    {
     "name": "stdout",
     "output_type": "stream",
     "text": [
      "none\n",
      "이번에 찾을 키워드 : 471 / 500 행 부전동 전포동행\n"
     ]
    },
    {
     "name": "stderr",
     "output_type": "stream",
     "text": [
      "471it [34:42,  4.27s/it]"
     ]
    },
    {
     "name": "stdout",
     "output_type": "stream",
     "text": [
      "none\n",
      "이번에 찾을 키워드 : 472 / 500 행 부전동 타다닥\n"
     ]
    },
    {
     "name": "stderr",
     "output_type": "stream",
     "text": [
      "472it [34:46,  4.26s/it]"
     ]
    },
    {
     "name": "stdout",
     "output_type": "stream",
     "text": [
      "https://pcmap.place.naver.com/restaurant/1024925556/review/visitor#\n",
      "이번에 찾을 키워드 : 473 / 500 행 부전동 망미블루스\n"
     ]
    },
    {
     "name": "stderr",
     "output_type": "stream",
     "text": [
      "473it [34:51,  4.28s/it]"
     ]
    },
    {
     "name": "stdout",
     "output_type": "stream",
     "text": [
      "https://pcmap.place.naver.com/restaurant/1481913064/review/visitor#\n",
      "이번에 찾을 키워드 : 474 / 500 행 범천동 990불고기서면점\n"
     ]
    },
    {
     "name": "stderr",
     "output_type": "stream",
     "text": [
      "474it [34:55,  4.29s/it]"
     ]
    },
    {
     "name": "stdout",
     "output_type": "stream",
     "text": [
      "https://pcmap.place.naver.com/restaurant/1310786062/review/visitor#\n",
      "이번에 찾을 키워드 : 475 / 500 행 당감동 당감우체국카페\n"
     ]
    },
    {
     "name": "stderr",
     "output_type": "stream",
     "text": [
      "475it [34:59,  4.29s/it]"
     ]
    },
    {
     "name": "stdout",
     "output_type": "stream",
     "text": [
      "https://pcmap.place.naver.com/restaurant/1574686073/review/visitor#\n",
      "이번에 찾을 키워드 : 476 / 500 행 개금동 새로운대구막창 부산점\n"
     ]
    },
    {
     "name": "stderr",
     "output_type": "stream",
     "text": [
      "476it [35:04,  4.28s/it]"
     ]
    },
    {
     "name": "stdout",
     "output_type": "stream",
     "text": [
      "https://pcmap.place.naver.com/restaurant/1931464589/review/visitor#\n",
      "이번에 찾을 키워드 : 477 / 500 행 전포동 전포마츠\n"
     ]
    },
    {
     "name": "stderr",
     "output_type": "stream",
     "text": [
      "477it [35:08,  4.27s/it]"
     ]
    },
    {
     "name": "stdout",
     "output_type": "stream",
     "text": [
      "https://pcmap.place.naver.com/restaurant/1108196294/review/visitor#\n",
      "이번에 찾을 키워드 : 478 / 500 행 전포동 데이오프데이(day off day)\n"
     ]
    },
    {
     "name": "stderr",
     "output_type": "stream",
     "text": [
      "478it [35:12,  4.30s/it]"
     ]
    },
    {
     "name": "stdout",
     "output_type": "stream",
     "text": [
      "https://pcmap.place.naver.com/restaurant/1007458756/review/visitor#\n",
      "이번에 찾을 키워드 : 479 / 500 행 양정동 히노아지\n"
     ]
    },
    {
     "name": "stderr",
     "output_type": "stream",
     "text": [
      "479it [35:16,  4.27s/it]"
     ]
    },
    {
     "name": "stdout",
     "output_type": "stream",
     "text": [
      "none\n",
      "이번에 찾을 키워드 : 480 / 500 행 전포동 카츠만\n"
     ]
    },
    {
     "name": "stderr",
     "output_type": "stream",
     "text": [
      "480it [35:21,  4.25s/it]"
     ]
    },
    {
     "name": "stdout",
     "output_type": "stream",
     "text": [
      "https://pcmap.place.naver.com/restaurant/1687994414/review/visitor#\n",
      "이번에 찾을 키워드 : 481 / 500 행 연지동 백운면\n"
     ]
    },
    {
     "name": "stderr",
     "output_type": "stream",
     "text": [
      "481it [35:25,  4.26s/it]"
     ]
    },
    {
     "name": "stdout",
     "output_type": "stream",
     "text": [
      "https://pcmap.place.naver.com/restaurant/1718142730/review/visitor#\n",
      "이번에 찾을 키워드 : 482 / 500 행 범전동 키세츠弦(현)\n"
     ]
    },
    {
     "name": "stderr",
     "output_type": "stream",
     "text": [
      "482it [35:29,  4.26s/it]"
     ]
    },
    {
     "name": "stdout",
     "output_type": "stream",
     "text": [
      "none\n",
      "이번에 찾을 키워드 : 483 / 500 행 가야동 찐텐\n"
     ]
    },
    {
     "name": "stderr",
     "output_type": "stream",
     "text": [
      "483it [35:33,  4.24s/it]"
     ]
    },
    {
     "name": "stdout",
     "output_type": "stream",
     "text": [
      "https://pcmap.place.naver.com/restaurant/1584866081/review/visitor#\n",
      "이번에 찾을 키워드 : 484 / 500 행 개금동 금로주점\n"
     ]
    },
    {
     "name": "stderr",
     "output_type": "stream",
     "text": [
      "484it [35:38,  4.25s/it]"
     ]
    },
    {
     "name": "stdout",
     "output_type": "stream",
     "text": [
      "https://pcmap.place.naver.com/restaurant/1248005453/review/visitor#\n",
      "이번에 찾을 키워드 : 485 / 500 행 전포동 파슷타애요 부산서면점\n"
     ]
    },
    {
     "name": "stderr",
     "output_type": "stream",
     "text": [
      "485it [35:42,  4.25s/it]"
     ]
    },
    {
     "name": "stdout",
     "output_type": "stream",
     "text": [
      "https://pcmap.place.naver.com/restaurant/1225688124/review/visitor#\n",
      "이번에 찾을 키워드 : 486 / 500 행 부암동 떡군이네 떡볶이 부산진구점\n"
     ]
    },
    {
     "name": "stderr",
     "output_type": "stream",
     "text": [
      "486it [35:46,  4.25s/it]"
     ]
    },
    {
     "name": "stdout",
     "output_type": "stream",
     "text": [
      "none\n",
      "이번에 찾을 키워드 : 487 / 500 행 부전동 엘리트\n"
     ]
    },
    {
     "name": "stderr",
     "output_type": "stream",
     "text": [
      "487it [35:50,  4.25s/it]"
     ]
    },
    {
     "name": "stdout",
     "output_type": "stream",
     "text": [
      "none\n",
      "이번에 찾을 키워드 : 488 / 500 행 전포동 토리에\n"
     ]
    },
    {
     "name": "stderr",
     "output_type": "stream",
     "text": [
      "488it [35:55,  4.28s/it]"
     ]
    },
    {
     "name": "stdout",
     "output_type": "stream",
     "text": [
      "https://pcmap.place.naver.com/restaurant/1087326640/review/visitor#\n",
      "이번에 찾을 키워드 : 489 / 500 행 전포동 고니즈 카츠\n"
     ]
    },
    {
     "name": "stderr",
     "output_type": "stream",
     "text": [
      "489it [35:59,  4.27s/it]"
     ]
    },
    {
     "name": "stdout",
     "output_type": "stream",
     "text": [
      "https://pcmap.place.naver.com/restaurant/1358000226/review/visitor#\n",
      "이번에 찾을 키워드 : 490 / 500 행 가야동 케이치로의 숲\n"
     ]
    },
    {
     "name": "stderr",
     "output_type": "stream",
     "text": [
      "490it [36:03,  4.27s/it]"
     ]
    },
    {
     "name": "stdout",
     "output_type": "stream",
     "text": [
      "https://pcmap.place.naver.com/restaurant/1351736896/review/visitor#\n",
      "이번에 찾을 키워드 : 491 / 500 행 가야동 본가꽃게아구\n"
     ]
    },
    {
     "name": "stderr",
     "output_type": "stream",
     "text": [
      "491it [36:07,  4.27s/it]"
     ]
    },
    {
     "name": "stdout",
     "output_type": "stream",
     "text": [
      "https://pcmap.place.naver.com/restaurant/1229166292/review/visitor#\n",
      "이번에 찾을 키워드 : 492 / 500 행 연지동 (주)본고갈비\n"
     ]
    },
    {
     "name": "stderr",
     "output_type": "stream",
     "text": [
      "492it [36:12,  4.26s/it]"
     ]
    },
    {
     "name": "stdout",
     "output_type": "stream",
     "text": [
      "none\n",
      "이번에 찾을 키워드 : 493 / 500 행 당감동 요달의찜닭\n"
     ]
    },
    {
     "name": "stderr",
     "output_type": "stream",
     "text": [
      "493it [36:16,  4.24s/it]"
     ]
    },
    {
     "name": "stdout",
     "output_type": "stream",
     "text": [
      "none\n",
      "이번에 찾을 키워드 : 494 / 500 행 전포동 하대승담양갈비전포점\n"
     ]
    },
    {
     "name": "stderr",
     "output_type": "stream",
     "text": [
      "494it [36:21,  4.35s/it]"
     ]
    },
    {
     "name": "stdout",
     "output_type": "stream",
     "text": [
      "none\n",
      "이번에 찾을 키워드 : 495 / 500 행 전포동 도리도리(전포끝길점)\n"
     ]
    },
    {
     "name": "stderr",
     "output_type": "stream",
     "text": [
      "495it [36:25,  4.32s/it]"
     ]
    },
    {
     "name": "stdout",
     "output_type": "stream",
     "text": [
      "none\n",
      "이번에 찾을 키워드 : 496 / 500 행 부전동 마카오\n"
     ]
    },
    {
     "name": "stderr",
     "output_type": "stream",
     "text": [
      "496it [36:29,  4.31s/it]"
     ]
    },
    {
     "name": "stdout",
     "output_type": "stream",
     "text": [
      "https://pcmap.place.naver.com/restaurant/1214552783/review/visitor#\n",
      "이번에 찾을 키워드 : 497 / 500 행 전포동 파커(Parker)\n"
     ]
    },
    {
     "name": "stderr",
     "output_type": "stream",
     "text": [
      "497it [36:33,  4.32s/it]"
     ]
    },
    {
     "name": "stdout",
     "output_type": "stream",
     "text": [
      "none\n",
      "이번에 찾을 키워드 : 498 / 500 행 부전동 광화문명가\n"
     ]
    },
    {
     "name": "stderr",
     "output_type": "stream",
     "text": [
      "498it [36:38,  4.31s/it]"
     ]
    },
    {
     "name": "stdout",
     "output_type": "stream",
     "text": [
      "https://pcmap.place.naver.com/restaurant/1714699730/review/visitor#\n",
      "이번에 찾을 키워드 : 499 / 500 행 부전동 우리집밥상\n"
     ]
    },
    {
     "name": "stderr",
     "output_type": "stream",
     "text": [
      "499it [36:42,  4.38s/it]"
     ]
    },
    {
     "name": "stdout",
     "output_type": "stream",
     "text": [
      "https://pcmap.place.naver.com/restaurant/1972634868/review/visitor#\n",
      "이번에 찾을 키워드 : 500 / 500 행 전포동 그릭하다\n"
     ]
    },
    {
     "name": "stderr",
     "output_type": "stream",
     "text": [
      "500it [36:46,  4.41s/it]"
     ]
    },
    {
     "name": "stdout",
     "output_type": "stream",
     "text": [
      "none\n"
     ]
    },
    {
     "name": "stderr",
     "output_type": "stream",
     "text": [
      "\n"
     ]
    }
   ],
   "source": [
    "\n",
    "# 데이터프레임의 '검색어' 열에서 키워드를 하나씩 가져온다.\n",
    "for i, keyword in tqdm(enumerate(df['검색어'].tolist())):\n",
    "\n",
    "    # 현재 몇 번째 행의 키워드를 찾고 있는지 출력한다.\n",
    "    print(\"이번에 찾을 키워드 :\", i+1, f\"/ {df.shape[0]} 행\", keyword)\n",
    "\n",
    "    try:  # 예외처리 시작\n",
    "        # 검색 url 만들기\n",
    "        naver_map_search_url = f'https://map.naver.com/v5/search/{keyword}/place'\n",
    "        driver.get(naver_map_search_url)  # 검색 url 접속 = 검색하기\n",
    "        time.sleep(4)  # 중요\n",
    "\n",
    "        cu = driver.current_url  # 검색이 성공된 플레이스에 대한 개별 페이지\n",
    "        res_code = re.findall(r\"place/(\\d+)\", cu)  # 정규표현식으로 플레이스 코드 추출\n",
    "        final_url = 'https://pcmap.place.naver.com/restaurant/' + \\\n",
    "            res_code[0]+'/review/visitor#'  # 리뷰 페이지 url 만들기\n",
    "\n",
    "        print(final_url)  # 리뷰 페이지 url 출력\n",
    "        # 데이터프레임의 'naver_map_url' 열에 리뷰 페이지 url 저장\n",
    "        df['naver_map_url'][i] = final_url\n",
    "\n",
    "    except IndexError:  # 만약 플레이스 코드를 찾을 수 없다면\n",
    "        df['naver_map_url'][i] = ''  # 데이터프레임의 'naver_map_url' 열에 빈 문자열 저장\n",
    "        print('none')  # 'none' 출력\n",
    "\n",
    "    # 데이터프레임을 csv 파일로 저장한다.\n",
    "    df.to_csv(f'./url_completed_to_{file_name}.csv', encoding='utf-8-sig')\n"
   ]
  },
  {
   "cell_type": "code",
   "execution_count": 5,
   "metadata": {},
   "outputs": [],
   "source": [
    "driver.quit()"
   ]
  },
  {
   "cell_type": "code",
   "execution_count": null,
   "metadata": {},
   "outputs": [],
   "source": []
  }
 ],
 "metadata": {
  "kernelspec": {
   "display_name": "Python 3 (ipykernel)",
   "language": "python",
   "name": "python3"
  },
  "language_info": {
   "codemirror_mode": {
    "name": "ipython",
    "version": 3
   },
   "file_extension": ".py",
   "mimetype": "text/x-python",
   "name": "python",
   "nbconvert_exporter": "python",
   "pygments_lexer": "ipython3",
   "version": "3.9.17"
  }
 },
 "nbformat": 4,
 "nbformat_minor": 2
}
